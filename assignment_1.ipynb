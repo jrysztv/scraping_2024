{
 "cells": [
  {
   "cell_type": "code",
   "execution_count": null,
   "metadata": {},
   "outputs": [],
   "source": [
    "import requests\n",
    "import bs4 as bs\n",
    "import pandas as pd\n",
    "from tqdm import tqdm\n",
    "\n",
    "tqdm.pandas()"
   ]
  },
  {
   "cell_type": "markdown",
   "metadata": {},
   "source": [
    "# Declared functions\n",
    "## Retrieve links containing tags for magyar-peter in Magyar Nemzet Online"
   ]
  },
  {
   "cell_type": "code",
   "execution_count": null,
   "metadata": {},
   "outputs": [],
   "source": [
    "# Function to retrieve the links to the articles on the given page\n",
    "def retrieve_mp_links_mno(page=1):\n",
    "    response = requests.get(f\"https://magyarnemzet.hu/cimke/magyar-peter?page={page}\")\n",
    "    soup = bs.BeautifulSoup(response.text, \"html.parser\")\n",
    "    # Find all <a> tags with the class \"article-link-wrapper\"\n",
    "    links = soup.find_all(\"a\", class_=\"article-link-wrapper\")\n",
    "\n",
    "    # Define the base URL\n",
    "    base_url = \"https://magyarnemzet.hu\"\n",
    "\n",
    "    # Extract the href attribute from each link and prepend the base URL\n",
    "    urls = [base_url + link.get(\"href\") for link in links]\n",
    "    return urls\n"
   ]
  },
  {
   "cell_type": "markdown",
   "metadata": {},
   "source": [
    "## Retrieve article content from the given URL"
   ]
  },
  {
   "cell_type": "code",
   "execution_count": null,
   "metadata": {},
   "outputs": [],
   "source": [
    "# Function to retrieve article content from a given URL\n",
    "def fetch_and_parse_article(article_url):\n",
    "    try:\n",
    "        soup = bs.BeautifulSoup(\n",
    "            requests.get(article_url).content,\n",
    "            \"html.parser\",\n",
    "        )\n",
    "        # Find the <app-article-text> block\n",
    "        article_text_block = soup.find(\"app-article-text\", class_=\"is-first\")\n",
    "\n",
    "        # Extract all text within <p> and <li> tags inside the article text block\n",
    "        paragraphs = article_text_block.find_all([\"p\", \"li\"])\n",
    "        article_text = \"\\n\".join(\n",
    "            [\n",
    "                \"- \" + para.get_text(separator=\"\\n\", strip=True)\n",
    "                if para.name == \"li\"\n",
    "                else para.get_text(separator=\"\\n\", strip=True)\n",
    "                for para in paragraphs\n",
    "            ]\n",
    "        )\n",
    "\n",
    "        # Initialize variables\n",
    "        title, lead, publish_date, source = None, None, None, None\n",
    "\n",
    "        # Extract the title\n",
    "        try:\n",
    "            title = soup.find(\"h1\", class_=\"title\").get_text(strip=True)\n",
    "        except Exception as e:\n",
    "            print(f\"Failed to fetch title from {article_url}: {e}\")\n",
    "\n",
    "        # Extract the lead\n",
    "        try:\n",
    "            lead = soup.find(\"h2\", class_=\"lead\").get_text(strip=True)\n",
    "        except Exception as e:\n",
    "            print(f\"Failed to fetch lead from {article_url}: {e}\")\n",
    "\n",
    "        # Extract the publish date\n",
    "        try:\n",
    "            publish_date = soup.find(\"span\", class_=\"publishdate\").get_text(strip=True)\n",
    "        except Exception as e:\n",
    "            print(f\"Failed to fetch publish date from {article_url}: {e}\")\n",
    "\n",
    "        # Extract the source\n",
    "        try:\n",
    "            source = (\n",
    "                soup.find(\"span\", class_=\"source\")\n",
    "                .get_text(strip=True)\n",
    "                .replace(\"Forrás:\", \"\")\n",
    "                .strip()\n",
    "            )\n",
    "        except Exception as e:\n",
    "            print(f\"Failed to fetch source from {article_url}: {e}\")\n",
    "\n",
    "        return {\n",
    "            \"title\": title,\n",
    "            \"lead\": lead,\n",
    "            \"publish_date\": publish_date,\n",
    "            \"source\": source,\n",
    "            \"article_text\": article_text,\n",
    "            \"url\": article_url,\n",
    "        }\n",
    "    except Exception as e:\n",
    "        print(f\"Failed to fetch {article_url}:\\n{e}\")\n",
    "        return None"
   ]
  },
  {
   "cell_type": "markdown",
   "metadata": {},
   "source": [
    "# Actionable cells\n",
    "## Retrieve article urls on the first 5 pages of MNO"
   ]
  },
  {
   "cell_type": "code",
   "execution_count": null,
   "metadata": {},
   "outputs": [],
   "source": [
    "urls = []\n",
    "for page in tqdm(range(1, 6)):\n",
    "    urls.extend(retrieve_mp_links_mno(page))"
   ]
  },
  {
   "cell_type": "markdown",
   "metadata": {},
   "source": [
    "## Retrieve article data and store it in a Dataframe"
   ]
  },
  {
   "cell_type": "markdown",
   "metadata": {},
   "source": [
    "- Fetch and parse the articles returns a dictionary for each cell in the Series of urls\n",
    "- If a dict is converted to a Series, the keys will be the column names\n",
    "- The resulting DataFrame will have columns for each key in the dictionaries"
   ]
  },
  {
   "cell_type": "code",
   "execution_count": null,
   "metadata": {},
   "outputs": [
    {
     "name": "stderr",
     "output_type": "stream",
     "text": [
      "  1%|▏         | 2/160 [00:01<01:49,  1.44it/s]"
     ]
    },
    {
     "name": "stdout",
     "output_type": "stream",
     "text": [
      "Failed to fetch title from https://magyarnemzet.hu/bayer-zsolt-blogja/2024/11/hazudol-petike: 'NoneType' object has no attribute 'get_text'\n",
      "Failed to fetch lead from https://magyarnemzet.hu/bayer-zsolt-blogja/2024/11/hazudol-petike: 'NoneType' object has no attribute 'get_text'\n",
      "Failed to fetch publish date from https://magyarnemzet.hu/bayer-zsolt-blogja/2024/11/hazudol-petike: 'NoneType' object has no attribute 'get_text'\n",
      "Failed to fetch source from https://magyarnemzet.hu/bayer-zsolt-blogja/2024/11/hazudol-petike: 'NoneType' object has no attribute 'get_text'\n"
     ]
    },
    {
     "name": "stderr",
     "output_type": "stream",
     "text": [
      "  2%|▏         | 3/160 [00:02<02:01,  1.29it/s]"
     ]
    },
    {
     "name": "stdout",
     "output_type": "stream",
     "text": [
      "Failed to fetch source from https://magyarnemzet.hu/belfold/2024/11/penzugyi-kaosz-a-tisza-partnal-a-nyilvanosan-elerheto-adatok-alatamasztjak-radnai-mark-alelnok-szavait: 'NoneType' object has no attribute 'get_text'\n"
     ]
    },
    {
     "name": "stderr",
     "output_type": "stream",
     "text": [
      "  3%|▎         | 5/160 [00:04<02:48,  1.09s/it]"
     ]
    },
    {
     "name": "stdout",
     "output_type": "stream",
     "text": [
      "Failed to fetch source from https://magyarnemzet.hu/belfold/2024/11/fiktiv-berleti-szerzodesekkel-is-kivehettek-penzt-a-tisza-part-kasszajabol: 'NoneType' object has no attribute 'get_text'\n"
     ]
    },
    {
     "name": "stderr",
     "output_type": "stream",
     "text": [
      "  4%|▍         | 6/160 [00:06<03:19,  1.29s/it]"
     ]
    },
    {
     "name": "stdout",
     "output_type": "stream",
     "text": [
      "Failed to fetch source from https://magyarnemzet.hu/belfold/2024/11/iden-biztosan-nem-szabadulhat-a-bortonbol-magyar-peter-penzmosassal-gyanusitott-munkatarsa: 'NoneType' object has no attribute 'get_text'\n"
     ]
    },
    {
     "name": "stderr",
     "output_type": "stream",
     "text": [
      "  4%|▍         | 7/160 [00:07<03:03,  1.20s/it]"
     ]
    },
    {
     "name": "stdout",
     "output_type": "stream",
     "text": [
      "Failed to fetch source from https://magyarnemzet.hu/belfold/2024/11/lebuktattak-magyar-petert-kamu-fotokkal-probalta-bizonygatni-igazat: 'NoneType' object has no attribute 'get_text'\n"
     ]
    },
    {
     "name": "stderr",
     "output_type": "stream",
     "text": [
      "  5%|▌         | 8/160 [00:09<03:13,  1.27s/it]"
     ]
    },
    {
     "name": "stdout",
     "output_type": "stream",
     "text": [
      "Failed to fetch source from https://magyarnemzet.hu/belfold/2024/11/ujabb-hanganyag-penzugyi-kaosz-a-tiszanal-magyar-ket-kezzel-szorja-a-milliokat: 'NoneType' object has no attribute 'get_text'\n"
     ]
    },
    {
     "name": "stderr",
     "output_type": "stream",
     "text": [
      "  6%|▌         | 9/160 [00:10<03:41,  1.47s/it]"
     ]
    },
    {
     "name": "stdout",
     "output_type": "stream",
     "text": [
      "Failed to fetch source from https://magyarnemzet.hu/belfold/2024/11/talalkozora-hivta-magyar-petert-es-a-dollarmediat-menczer-tamas: 'NoneType' object has no attribute 'get_text'\n"
     ]
    },
    {
     "name": "stderr",
     "output_type": "stream",
     "text": [
      "  6%|▋         | 10/160 [00:11<03:15,  1.31s/it]"
     ]
    },
    {
     "name": "stdout",
     "output_type": "stream",
     "text": [
      "Failed to fetch source from https://magyarnemzet.hu/belfold/2024/11/magyar-peter-a-mesterseges-intelligenciatol-eljutott-odaig-hogy-bort-ivott-video: 'NoneType' object has no attribute 'get_text'\n"
     ]
    },
    {
     "name": "stderr",
     "output_type": "stream",
     "text": [
      "  8%|▊         | 12/160 [00:14<03:06,  1.26s/it]"
     ]
    },
    {
     "name": "stdout",
     "output_type": "stream",
     "text": [
      "Failed to fetch source from https://magyarnemzet.hu/sport/2024/11/gulacsi-peter-inter-ajanlat-bajnokok-ligaja: 'NoneType' object has no attribute 'get_text'\n"
     ]
    },
    {
     "name": "stderr",
     "output_type": "stream",
     "text": [
      "  8%|▊         | 13/160 [00:15<03:00,  1.23s/it]"
     ]
    },
    {
     "name": "stdout",
     "output_type": "stream",
     "text": [
      "Failed to fetch source from https://magyarnemzet.hu/belfold/2024/11/marad-a-torvenytelen-allapot-nem-lesz-budapestnek-fopolgarmester-helyettese: 'NoneType' object has no attribute 'get_text'\n"
     ]
    },
    {
     "name": "stderr",
     "output_type": "stream",
     "text": [
      "  9%|▉         | 15/160 [00:18<03:36,  1.49s/it]"
     ]
    },
    {
     "name": "stdout",
     "output_type": "stream",
     "text": [
      "Failed to fetch source from https://magyarnemzet.hu/gazdasag/2024/11/nagy-marton-helyreallt-a-fogyasztas-massziv-emelkedes-volt-az-egeszsegpiacon-is: 'NoneType' object has no attribute 'get_text'\n"
     ]
    },
    {
     "name": "stderr",
     "output_type": "stream",
     "text": [
      " 11%|█▏        | 18/160 [00:22<02:48,  1.19s/it]"
     ]
    },
    {
     "name": "stdout",
     "output_type": "stream",
     "text": [
      "Failed to fetch source from https://magyarnemzet.hu/sport/2024/11/mike-tyson-jake-paul-bundagyanu-hivatalos-valasz: 'NoneType' object has no attribute 'get_text'\n"
     ]
    },
    {
     "name": "stderr",
     "output_type": "stream",
     "text": [
      " 13%|█▎        | 21/160 [00:25<02:35,  1.12s/it]"
     ]
    },
    {
     "name": "stdout",
     "output_type": "stream",
     "text": [
      "Failed to fetch source from https://magyarnemzet.hu/kulfold/2024/11/ujabb-holttest-kerult-elo-a-spanyolorszagi-aradasok-helyszinen-video: 'NoneType' object has no attribute 'get_text'\n"
     ]
    },
    {
     "name": "stderr",
     "output_type": "stream",
     "text": [
      " 14%|█▍        | 22/160 [00:26<02:29,  1.08s/it]"
     ]
    },
    {
     "name": "stdout",
     "output_type": "stream",
     "text": [
      "Failed to fetch source from https://magyarnemzet.hu/belfold/2024/11/letartoztatasban-marad-az-ir-ferfi-akit-azzal-gyanusitanak-szex-kozben-vegzett-egy-fiatal-amerikai-lannyal-budapesten: 'NoneType' object has no attribute 'get_text'\n"
     ]
    },
    {
     "name": "stderr",
     "output_type": "stream",
     "text": [
      " 14%|█▍        | 23/160 [00:27<02:22,  1.04s/it]"
     ]
    },
    {
     "name": "stdout",
     "output_type": "stream",
     "text": [
      "Failed to fetch source from https://magyarnemzet.hu/belfold/2024/11/megszavazta-az-orszaggyules-gyurcsanynak-fizetnie-kell: 'NoneType' object has no attribute 'get_text'\n"
     ]
    },
    {
     "name": "stderr",
     "output_type": "stream",
     "text": [
      " 15%|█▌        | 24/160 [00:28<02:16,  1.01s/it]"
     ]
    },
    {
     "name": "stdout",
     "output_type": "stream",
     "text": [
      "Failed to fetch source from https://magyarnemzet.hu/sport/2024/11/gulacsi-peter-inter-ajanlat-bajnokok-ligaja: 'NoneType' object has no attribute 'get_text'\n"
     ]
    },
    {
     "name": "stderr",
     "output_type": "stream",
     "text": [
      " 16%|█▌        | 25/160 [00:29<02:14,  1.00it/s]"
     ]
    },
    {
     "name": "stdout",
     "output_type": "stream",
     "text": [
      "Failed to fetch source from https://magyarnemzet.hu/belfold/2024/11/marad-a-torvenytelen-allapot-nem-lesz-budapestnek-fopolgarmester-helyettese: 'NoneType' object has no attribute 'get_text'\n"
     ]
    },
    {
     "name": "stderr",
     "output_type": "stream",
     "text": [
      " 17%|█▋        | 27/160 [00:31<02:10,  1.02it/s]"
     ]
    },
    {
     "name": "stdout",
     "output_type": "stream",
     "text": [
      "Failed to fetch source from https://magyarnemzet.hu/gazdasag/2024/11/nagy-marton-helyreallt-a-fogyasztas-massziv-emelkedes-volt-az-egeszsegpiacon-is: 'NoneType' object has no attribute 'get_text'\n"
     ]
    },
    {
     "name": "stderr",
     "output_type": "stream",
     "text": [
      " 19%|█▉        | 30/160 [00:34<02:02,  1.06it/s]"
     ]
    },
    {
     "name": "stdout",
     "output_type": "stream",
     "text": [
      "Failed to fetch source from https://magyarnemzet.hu/sport/2024/11/mike-tyson-jake-paul-bundagyanu-hivatalos-valasz: 'NoneType' object has no attribute 'get_text'\n"
     ]
    },
    {
     "name": "stderr",
     "output_type": "stream",
     "text": [
      " 20%|██        | 32/160 [00:37<02:30,  1.18s/it]"
     ]
    },
    {
     "name": "stdout",
     "output_type": "stream",
     "text": [
      "Failed to fetch source from https://magyarnemzet.hu/kulfold/2024/11/olyan-tel-jon-amit-talan-soha-nem-felejtunk: 'NoneType' object has no attribute 'get_text'\n"
     ]
    },
    {
     "name": "stderr",
     "output_type": "stream",
     "text": [
      " 21%|██▏       | 34/160 [00:39<02:21,  1.12s/it]"
     ]
    },
    {
     "name": "stdout",
     "output_type": "stream",
     "text": [
      "Failed to fetch source from https://magyarnemzet.hu/belfold/2024/11/hanzel-henrik-vogel-evelinnek-hozzad-nyult-a-peter-fizikalisan-bantott-teged-hangfelvetel: 'NoneType' object has no attribute 'get_text'\n"
     ]
    },
    {
     "name": "stderr",
     "output_type": "stream",
     "text": [
      " 22%|██▏       | 35/160 [00:40<02:14,  1.08s/it]"
     ]
    },
    {
     "name": "stdout",
     "output_type": "stream",
     "text": [
      "Failed to fetch source from https://magyarnemzet.hu/belfold/2024/11/mi-a-velermenye-magyar-peterrol-szavazzon: 'NoneType' object has no attribute 'get_text'\n"
     ]
    },
    {
     "name": "stderr",
     "output_type": "stream",
     "text": [
      " 22%|██▎       | 36/160 [00:42<02:38,  1.28s/it]"
     ]
    },
    {
     "name": "stdout",
     "output_type": "stream",
     "text": [
      "Failed to fetch source from https://magyarnemzet.hu/kulfold/2024/11/manfred-weberek-fizethetik-magyar-peter-orszagjarasat: 'NoneType' object has no attribute 'get_text'\n"
     ]
    },
    {
     "name": "stderr",
     "output_type": "stream",
     "text": [
      " 23%|██▎       | 37/160 [00:43<02:59,  1.46s/it]"
     ]
    },
    {
     "name": "stdout",
     "output_type": "stream",
     "text": [
      "Failed to fetch source from https://magyarnemzet.hu/belfold/2024/11/menczer-tamas-magyar-peter-szamara-nem-fontos-hogy-kimaradjunk-a-haborubol: 'NoneType' object has no attribute 'get_text'\n"
     ]
    },
    {
     "name": "stderr",
     "output_type": "stream",
     "text": [
      " 24%|██▍       | 38/160 [00:45<03:05,  1.52s/it]"
     ]
    },
    {
     "name": "stdout",
     "output_type": "stream",
     "text": [
      "Failed to fetch source from https://magyarnemzet.hu/belfold/2024/11/magyar-peter-meghirdette-a-nok-elleni-eroszak-napjat-aztan-eszbe-kapott-video: 'NoneType' object has no attribute 'get_text'\n"
     ]
    },
    {
     "name": "stderr",
     "output_type": "stream",
     "text": [
      " 24%|██▍       | 39/160 [00:47<03:03,  1.52s/it]"
     ]
    },
    {
     "name": "stdout",
     "output_type": "stream",
     "text": [
      "Failed to fetch source from https://magyarnemzet.hu/kulfold/2024/11/a-magyargyulolo-weber-parancsat-teljesitik-a-tisza-part-politikusai: 'NoneType' object has no attribute 'get_text'\n"
     ]
    },
    {
     "name": "stderr",
     "output_type": "stream",
     "text": [
      " 25%|██▌       | 40/160 [00:48<03:07,  1.56s/it]"
     ]
    },
    {
     "name": "stdout",
     "output_type": "stream",
     "text": [
      "Failed to fetch source from https://magyarnemzet.hu/belfold/2024/11/magyar-peter-tamogatja-hogy-azonos-nemu-szulok-gyereket-fogadjanak-orokbe: 'NoneType' object has no attribute 'get_text'\n"
     ]
    },
    {
     "name": "stderr",
     "output_type": "stream",
     "text": [
      " 26%|██▌       | 41/160 [00:49<02:43,  1.38s/it]"
     ]
    },
    {
     "name": "stdout",
     "output_type": "stream",
     "text": [
      "Failed to fetch title from https://magyarnemzet.hu/velemeny/2024/11/bastya-peter-elvtars-a-kidobatoember: 'NoneType' object has no attribute 'get_text'\n",
      "Failed to fetch lead from https://magyarnemzet.hu/velemeny/2024/11/bastya-peter-elvtars-a-kidobatoember: 'NoneType' object has no attribute 'get_text'\n",
      "Failed to fetch publish date from https://magyarnemzet.hu/velemeny/2024/11/bastya-peter-elvtars-a-kidobatoember: 'NoneType' object has no attribute 'get_text'\n",
      "Failed to fetch source from https://magyarnemzet.hu/velemeny/2024/11/bastya-peter-elvtars-a-kidobatoember: 'NoneType' object has no attribute 'get_text'\n"
     ]
    },
    {
     "name": "stderr",
     "output_type": "stream",
     "text": [
      " 27%|██▋       | 43/160 [00:52<02:56,  1.51s/it]"
     ]
    },
    {
     "name": "stdout",
     "output_type": "stream",
     "text": [
      "Failed to fetch source from https://magyarnemzet.hu/belfold/2024/11/magyar-peter-kutyaba-se-veszi-a-noket: 'NoneType' object has no attribute 'get_text'\n"
     ]
    },
    {
     "name": "stderr",
     "output_type": "stream",
     "text": [
      " 28%|██▊       | 44/160 [00:53<02:36,  1.35s/it]"
     ]
    },
    {
     "name": "stdout",
     "output_type": "stream",
     "text": [
      "Failed to fetch source from https://magyarnemzet.hu/sport/2024/11/gulacsi-peter-inter-ajanlat-bajnokok-ligaja: 'NoneType' object has no attribute 'get_text'\n"
     ]
    },
    {
     "name": "stderr",
     "output_type": "stream",
     "text": [
      " 28%|██▊       | 45/160 [00:55<02:24,  1.25s/it]"
     ]
    },
    {
     "name": "stdout",
     "output_type": "stream",
     "text": [
      "Failed to fetch source from https://magyarnemzet.hu/belfold/2024/11/marad-a-torvenytelen-allapot-nem-lesz-budapestnek-fopolgarmester-helyettese: 'NoneType' object has no attribute 'get_text'\n"
     ]
    },
    {
     "name": "stderr",
     "output_type": "stream",
     "text": [
      " 29%|██▉       | 47/160 [00:56<02:04,  1.10s/it]"
     ]
    },
    {
     "name": "stdout",
     "output_type": "stream",
     "text": [
      "Failed to fetch source from https://magyarnemzet.hu/gazdasag/2024/11/nagy-marton-helyreallt-a-fogyasztas-massziv-emelkedes-volt-az-egeszsegpiacon-is: 'NoneType' object has no attribute 'get_text'\n"
     ]
    },
    {
     "name": "stderr",
     "output_type": "stream",
     "text": [
      " 31%|███▏      | 50/160 [01:00<02:15,  1.23s/it]"
     ]
    },
    {
     "name": "stdout",
     "output_type": "stream",
     "text": [
      "Failed to fetch source from https://magyarnemzet.hu/sport/2024/11/mike-tyson-jake-paul-bundagyanu-hivatalos-valasz: 'NoneType' object has no attribute 'get_text'\n"
     ]
    },
    {
     "name": "stderr",
     "output_type": "stream",
     "text": [
      " 33%|███▎      | 53/160 [01:05<02:36,  1.46s/it]"
     ]
    },
    {
     "name": "stdout",
     "output_type": "stream",
     "text": [
      "Failed to fetch source from https://magyarnemzet.hu/kulfold/2024/11/ujabb-holttest-kerult-elo-a-spanyolorszagi-aradasok-helyszinen-video: 'NoneType' object has no attribute 'get_text'\n"
     ]
    },
    {
     "name": "stderr",
     "output_type": "stream",
     "text": [
      " 34%|███▍      | 54/160 [01:06<02:32,  1.44s/it]"
     ]
    },
    {
     "name": "stdout",
     "output_type": "stream",
     "text": [
      "Failed to fetch source from https://magyarnemzet.hu/belfold/2024/11/letartoztatasban-marad-az-ir-ferfi-akit-azzal-gyanusitanak-szex-kozben-vegzett-egy-fiatal-amerikai-lannyal-budapesten: 'NoneType' object has no attribute 'get_text'\n"
     ]
    },
    {
     "name": "stderr",
     "output_type": "stream",
     "text": [
      " 34%|███▍      | 55/160 [01:08<02:18,  1.32s/it]"
     ]
    },
    {
     "name": "stdout",
     "output_type": "stream",
     "text": [
      "Failed to fetch source from https://magyarnemzet.hu/belfold/2024/11/megszavazta-az-orszaggyules-gyurcsanynak-fizetnie-kell: 'NoneType' object has no attribute 'get_text'\n"
     ]
    },
    {
     "name": "stderr",
     "output_type": "stream",
     "text": [
      " 35%|███▌      | 56/160 [01:08<02:05,  1.20s/it]"
     ]
    },
    {
     "name": "stdout",
     "output_type": "stream",
     "text": [
      "Failed to fetch source from https://magyarnemzet.hu/sport/2024/11/gulacsi-peter-inter-ajanlat-bajnokok-ligaja: 'NoneType' object has no attribute 'get_text'\n"
     ]
    },
    {
     "name": "stderr",
     "output_type": "stream",
     "text": [
      " 36%|███▌      | 57/160 [01:10<02:09,  1.26s/it]"
     ]
    },
    {
     "name": "stdout",
     "output_type": "stream",
     "text": [
      "Failed to fetch source from https://magyarnemzet.hu/belfold/2024/11/marad-a-torvenytelen-allapot-nem-lesz-budapestnek-fopolgarmester-helyettese: 'NoneType' object has no attribute 'get_text'\n"
     ]
    },
    {
     "name": "stderr",
     "output_type": "stream",
     "text": [
      " 37%|███▋      | 59/160 [01:12<02:03,  1.22s/it]"
     ]
    },
    {
     "name": "stdout",
     "output_type": "stream",
     "text": [
      "Failed to fetch source from https://magyarnemzet.hu/gazdasag/2024/11/nagy-marton-helyreallt-a-fogyasztas-massziv-emelkedes-volt-az-egeszsegpiacon-is: 'NoneType' object has no attribute 'get_text'\n"
     ]
    },
    {
     "name": "stderr",
     "output_type": "stream",
     "text": [
      " 39%|███▉      | 62/160 [01:15<01:46,  1.09s/it]"
     ]
    },
    {
     "name": "stdout",
     "output_type": "stream",
     "text": [
      "Failed to fetch source from https://magyarnemzet.hu/sport/2024/11/mike-tyson-jake-paul-bundagyanu-hivatalos-valasz: 'NoneType' object has no attribute 'get_text'\n"
     ]
    },
    {
     "name": "stderr",
     "output_type": "stream",
     "text": [
      " 40%|████      | 64/160 [01:18<01:47,  1.12s/it]"
     ]
    },
    {
     "name": "stdout",
     "output_type": "stream",
     "text": [
      "Failed to fetch source from https://magyarnemzet.hu/kulfold/2024/11/olyan-tel-jon-amit-talan-soha-nem-felejtunk: 'NoneType' object has no attribute 'get_text'\n"
     ]
    },
    {
     "name": "stderr",
     "output_type": "stream",
     "text": [
      " 41%|████▏     | 66/160 [01:20<01:59,  1.27s/it]"
     ]
    },
    {
     "name": "stdout",
     "output_type": "stream",
     "text": [
      "Failed to fetch source from https://magyarnemzet.hu/belfold/2024/11/rendet-kell-tenni-magyar-peter-es-magyar-peter-kozott: 'NoneType' object has no attribute 'get_text'\n"
     ]
    },
    {
     "name": "stderr",
     "output_type": "stream",
     "text": [
      " 42%|████▎     | 68/160 [01:23<02:06,  1.38s/it]"
     ]
    },
    {
     "name": "stdout",
     "output_type": "stream",
     "text": [
      "Failed to fetch source from https://magyarnemzet.hu/belfold/2024/11/magyar-peter-ujabb-allami-intezmenyekben-keltene-zavart: 'NoneType' object has no attribute 'get_text'\n"
     ]
    },
    {
     "name": "stderr",
     "output_type": "stream",
     "text": [
      " 43%|████▎     | 69/160 [01:25<02:07,  1.40s/it]"
     ]
    },
    {
     "name": "stdout",
     "output_type": "stream",
     "text": [
      "Failed to fetch title from https://magyarnemzet.hu/poszt-trauma/2024/11/melyutes-erkezett-magyar-peternek-nagy-bando-gonoszsaga-csak-olaj-a-tuzre: 'NoneType' object has no attribute 'get_text'\n",
      "Failed to fetch lead from https://magyarnemzet.hu/poszt-trauma/2024/11/melyutes-erkezett-magyar-peternek-nagy-bando-gonoszsaga-csak-olaj-a-tuzre: 'NoneType' object has no attribute 'get_text'\n",
      "Failed to fetch publish date from https://magyarnemzet.hu/poszt-trauma/2024/11/melyutes-erkezett-magyar-peternek-nagy-bando-gonoszsaga-csak-olaj-a-tuzre: 'NoneType' object has no attribute 'get_text'\n",
      "Failed to fetch source from https://magyarnemzet.hu/poszt-trauma/2024/11/melyutes-erkezett-magyar-peternek-nagy-bando-gonoszsaga-csak-olaj-a-tuzre: 'NoneType' object has no attribute 'get_text'\n"
     ]
    },
    {
     "name": "stderr",
     "output_type": "stream",
     "text": [
      " 44%|████▍     | 70/160 [01:26<02:06,  1.41s/it]"
     ]
    },
    {
     "name": "stdout",
     "output_type": "stream",
     "text": [
      "Failed to fetch title from https://magyarnemzet.hu/velemeny/2024/11/magyar-peter-sotet-tortenelmi-idoket-idez: 'NoneType' object has no attribute 'get_text'\n",
      "Failed to fetch lead from https://magyarnemzet.hu/velemeny/2024/11/magyar-peter-sotet-tortenelmi-idoket-idez: 'NoneType' object has no attribute 'get_text'\n",
      "Failed to fetch publish date from https://magyarnemzet.hu/velemeny/2024/11/magyar-peter-sotet-tortenelmi-idoket-idez: 'NoneType' object has no attribute 'get_text'\n",
      "Failed to fetch source from https://magyarnemzet.hu/velemeny/2024/11/magyar-peter-sotet-tortenelmi-idoket-idez: 'NoneType' object has no attribute 'get_text'\n"
     ]
    },
    {
     "name": "stderr",
     "output_type": "stream",
     "text": [
      " 46%|████▌     | 73/160 [01:30<02:00,  1.39s/it]"
     ]
    },
    {
     "name": "stdout",
     "output_type": "stream",
     "text": [
      "Failed to fetch source from https://magyarnemzet.hu/belfold/2024/11/van-aki-meg-bedol-neki-igy-sikalna-el-magyar-peter-azt-ahogyan-a-nokrol-velekedik: 'NoneType' object has no attribute 'get_text'\n"
     ]
    },
    {
     "name": "stderr",
     "output_type": "stream",
     "text": [
      " 46%|████▋     | 74/160 [01:32<01:58,  1.38s/it]"
     ]
    },
    {
     "name": "stdout",
     "output_type": "stream",
     "text": [
      "Failed to fetch source from https://magyarnemzet.hu/belfold/2024/11/veget-vetett-a-kormany-magyar-peter-legujabb-amokfutasanak: 'NoneType' object has no attribute 'get_text'\n"
     ]
    },
    {
     "name": "stderr",
     "output_type": "stream",
     "text": [
      " 47%|████▋     | 75/160 [01:33<02:00,  1.41s/it]"
     ]
    },
    {
     "name": "stdout",
     "output_type": "stream",
     "text": [
      "Failed to fetch source from https://magyarnemzet.hu/belfold/2024/11/magyar-peter-a-sajat-ep-kepviseloit-szidja-ok-pedig-szo-nelkul-turik-video: 'NoneType' object has no attribute 'get_text'\n"
     ]
    },
    {
     "name": "stderr",
     "output_type": "stream",
     "text": [
      " 48%|████▊     | 76/160 [01:34<01:46,  1.26s/it]"
     ]
    },
    {
     "name": "stdout",
     "output_type": "stream",
     "text": [
      "Failed to fetch source from https://magyarnemzet.hu/sport/2024/11/gulacsi-peter-inter-ajanlat-bajnokok-ligaja: 'NoneType' object has no attribute 'get_text'\n"
     ]
    },
    {
     "name": "stderr",
     "output_type": "stream",
     "text": [
      " 48%|████▊     | 77/160 [01:35<01:34,  1.14s/it]"
     ]
    },
    {
     "name": "stdout",
     "output_type": "stream",
     "text": [
      "Failed to fetch source from https://magyarnemzet.hu/belfold/2024/11/marad-a-torvenytelen-allapot-nem-lesz-budapestnek-fopolgarmester-helyettese: 'NoneType' object has no attribute 'get_text'\n"
     ]
    },
    {
     "name": "stderr",
     "output_type": "stream",
     "text": [
      " 49%|████▉     | 79/160 [01:37<01:25,  1.05s/it]"
     ]
    },
    {
     "name": "stdout",
     "output_type": "stream",
     "text": [
      "Failed to fetch source from https://magyarnemzet.hu/gazdasag/2024/11/nagy-marton-helyreallt-a-fogyasztas-massziv-emelkedes-volt-az-egeszsegpiacon-is: 'NoneType' object has no attribute 'get_text'\n"
     ]
    },
    {
     "name": "stderr",
     "output_type": "stream",
     "text": [
      " 51%|█████▏    | 82/160 [01:40<01:18,  1.00s/it]"
     ]
    },
    {
     "name": "stdout",
     "output_type": "stream",
     "text": [
      "Failed to fetch source from https://magyarnemzet.hu/sport/2024/11/mike-tyson-jake-paul-bundagyanu-hivatalos-valasz: 'NoneType' object has no attribute 'get_text'\n"
     ]
    },
    {
     "name": "stderr",
     "output_type": "stream",
     "text": [
      " 53%|█████▎    | 85/160 [01:43<01:17,  1.04s/it]"
     ]
    },
    {
     "name": "stdout",
     "output_type": "stream",
     "text": [
      "Failed to fetch source from https://magyarnemzet.hu/kulfold/2024/11/ujabb-holttest-kerult-elo-a-spanyolorszagi-aradasok-helyszinen-video: 'NoneType' object has no attribute 'get_text'\n"
     ]
    },
    {
     "name": "stderr",
     "output_type": "stream",
     "text": [
      " 54%|█████▍    | 86/160 [01:44<01:12,  1.02it/s]"
     ]
    },
    {
     "name": "stdout",
     "output_type": "stream",
     "text": [
      "Failed to fetch source from https://magyarnemzet.hu/belfold/2024/11/letartoztatasban-marad-az-ir-ferfi-akit-azzal-gyanusitanak-szex-kozben-vegzett-egy-fiatal-amerikai-lannyal-budapesten: 'NoneType' object has no attribute 'get_text'\n"
     ]
    },
    {
     "name": "stderr",
     "output_type": "stream",
     "text": [
      " 54%|█████▍    | 87/160 [01:45<01:10,  1.04it/s]"
     ]
    },
    {
     "name": "stdout",
     "output_type": "stream",
     "text": [
      "Failed to fetch source from https://magyarnemzet.hu/belfold/2024/11/megszavazta-az-orszaggyules-gyurcsanynak-fizetnie-kell: 'NoneType' object has no attribute 'get_text'\n"
     ]
    },
    {
     "name": "stderr",
     "output_type": "stream",
     "text": [
      " 55%|█████▌    | 88/160 [01:46<01:09,  1.04it/s]"
     ]
    },
    {
     "name": "stdout",
     "output_type": "stream",
     "text": [
      "Failed to fetch source from https://magyarnemzet.hu/sport/2024/11/gulacsi-peter-inter-ajanlat-bajnokok-ligaja: 'NoneType' object has no attribute 'get_text'\n"
     ]
    },
    {
     "name": "stderr",
     "output_type": "stream",
     "text": [
      " 56%|█████▌    | 89/160 [01:47<01:11,  1.01s/it]"
     ]
    },
    {
     "name": "stdout",
     "output_type": "stream",
     "text": [
      "Failed to fetch source from https://magyarnemzet.hu/belfold/2024/11/marad-a-torvenytelen-allapot-nem-lesz-budapestnek-fopolgarmester-helyettese: 'NoneType' object has no attribute 'get_text'\n"
     ]
    },
    {
     "name": "stderr",
     "output_type": "stream",
     "text": [
      " 57%|█████▋    | 91/160 [01:49<01:04,  1.07it/s]"
     ]
    },
    {
     "name": "stdout",
     "output_type": "stream",
     "text": [
      "Failed to fetch source from https://magyarnemzet.hu/gazdasag/2024/11/nagy-marton-helyreallt-a-fogyasztas-massziv-emelkedes-volt-az-egeszsegpiacon-is: 'NoneType' object has no attribute 'get_text'\n"
     ]
    },
    {
     "name": "stderr",
     "output_type": "stream",
     "text": [
      " 59%|█████▉    | 94/160 [01:51<01:02,  1.06it/s]"
     ]
    },
    {
     "name": "stdout",
     "output_type": "stream",
     "text": [
      "Failed to fetch source from https://magyarnemzet.hu/sport/2024/11/mike-tyson-jake-paul-bundagyanu-hivatalos-valasz: 'NoneType' object has no attribute 'get_text'\n"
     ]
    },
    {
     "name": "stderr",
     "output_type": "stream",
     "text": [
      " 60%|██████    | 96/160 [01:54<01:04,  1.02s/it]"
     ]
    },
    {
     "name": "stdout",
     "output_type": "stream",
     "text": [
      "Failed to fetch source from https://magyarnemzet.hu/kulfold/2024/11/olyan-tel-jon-amit-talan-soha-nem-felejtunk: 'NoneType' object has no attribute 'get_text'\n"
     ]
    },
    {
     "name": "stderr",
     "output_type": "stream",
     "text": [
      " 62%|██████▏   | 99/160 [01:58<01:22,  1.35s/it]"
     ]
    },
    {
     "name": "stdout",
     "output_type": "stream",
     "text": [
      "Failed to fetch source from https://magyarnemzet.hu/belfold/2024/11/igy-nezi-le-a-noket-igy-tolti-ki-duhet-rajtuk-magyar-peter-video: 'NoneType' object has no attribute 'get_text'\n"
     ]
    },
    {
     "name": "stderr",
     "output_type": "stream",
     "text": [
      " 62%|██████▎   | 100/160 [02:00<01:21,  1.35s/it]"
     ]
    },
    {
     "name": "stdout",
     "output_type": "stream",
     "text": [
      "Failed to fetch source from https://magyarnemzet.hu/belfold/2024/11/tobb-helyen-is-tuntettek-magyar-peter-ellen-a-felhaborodott-nyugdijasok: 'NoneType' object has no attribute 'get_text'\n"
     ]
    },
    {
     "name": "stderr",
     "output_type": "stream",
     "text": [
      " 63%|██████▎   | 101/160 [02:01<01:23,  1.42s/it]"
     ]
    },
    {
     "name": "stdout",
     "output_type": "stream",
     "text": [
      "Failed to fetch source from https://magyarnemzet.hu/belfold/2024/11/igy-nez-ki-ha-magyar-peter-ugy-gondolja-barmilyen-not-megkaphat-video: 'NoneType' object has no attribute 'get_text'\n"
     ]
    },
    {
     "name": "stderr",
     "output_type": "stream",
     "text": [
      " 64%|██████▍   | 102/160 [02:02<01:21,  1.40s/it]"
     ]
    },
    {
     "name": "stdout",
     "output_type": "stream",
     "text": [
      "Failed to fetch source from https://magyarnemzet.hu/belfold/2024/11/apad-a-tisza-magyar-peter-megint-lebukott: 'NoneType' object has no attribute 'get_text'\n"
     ]
    },
    {
     "name": "stderr",
     "output_type": "stream",
     "text": [
      " 66%|██████▌   | 105/160 [02:06<01:10,  1.29s/it]"
     ]
    },
    {
     "name": "stdout",
     "output_type": "stream",
     "text": [
      "Failed to fetch source from https://magyarnemzet.hu/belfold/2024/11/magyar-peter-azokat-is-gyalazza-akik-tamogatjak-es-biznak-benne: 'NoneType' object has no attribute 'get_text'\n"
     ]
    },
    {
     "name": "stderr",
     "output_type": "stream",
     "text": [
      " 66%|██████▋   | 106/160 [02:07<01:09,  1.29s/it]"
     ]
    },
    {
     "name": "stdout",
     "output_type": "stream",
     "text": [
      "Failed to fetch source from https://magyarnemzet.hu/belfold/2024/11/terminal-a-magyar-nemzet-kozeleti-varoterme-mi-egy-tudosito-dolga-magyar-peterrel-szemben: 'NoneType' object has no attribute 'get_text'\n"
     ]
    },
    {
     "name": "stderr",
     "output_type": "stream",
     "text": [
      " 67%|██████▋   | 107/160 [02:09<01:07,  1.28s/it]"
     ]
    },
    {
     "name": "stdout",
     "output_type": "stream",
     "text": [
      "Failed to fetch source from https://magyarnemzet.hu/belfold/2024/11/magyar-peternek-listaja-van-a-neki-nem-tetszo-sajtotermekekrol-video: 'NoneType' object has no attribute 'get_text'\n"
     ]
    },
    {
     "name": "stderr",
     "output_type": "stream",
     "text": [
      " 68%|██████▊   | 108/160 [02:10<01:03,  1.21s/it]"
     ]
    },
    {
     "name": "stdout",
     "output_type": "stream",
     "text": [
      "Failed to fetch source from https://magyarnemzet.hu/sport/2024/11/gulacsi-peter-inter-ajanlat-bajnokok-ligaja: 'NoneType' object has no attribute 'get_text'\n"
     ]
    },
    {
     "name": "stderr",
     "output_type": "stream",
     "text": [
      " 68%|██████▊   | 109/160 [02:11<01:03,  1.25s/it]"
     ]
    },
    {
     "name": "stdout",
     "output_type": "stream",
     "text": [
      "Failed to fetch source from https://magyarnemzet.hu/belfold/2024/11/marad-a-torvenytelen-allapot-nem-lesz-budapestnek-fopolgarmester-helyettese: 'NoneType' object has no attribute 'get_text'\n"
     ]
    },
    {
     "name": "stderr",
     "output_type": "stream",
     "text": [
      " 69%|██████▉   | 111/160 [02:13<00:53,  1.10s/it]"
     ]
    },
    {
     "name": "stdout",
     "output_type": "stream",
     "text": [
      "Failed to fetch source from https://magyarnemzet.hu/gazdasag/2024/11/nagy-marton-helyreallt-a-fogyasztas-massziv-emelkedes-volt-az-egeszsegpiacon-is: 'NoneType' object has no attribute 'get_text'\n"
     ]
    },
    {
     "name": "stderr",
     "output_type": "stream",
     "text": [
      " 71%|███████▏  | 114/160 [02:17<00:56,  1.23s/it]"
     ]
    },
    {
     "name": "stdout",
     "output_type": "stream",
     "text": [
      "Failed to fetch source from https://magyarnemzet.hu/sport/2024/11/mike-tyson-jake-paul-bundagyanu-hivatalos-valasz: 'NoneType' object has no attribute 'get_text'\n"
     ]
    },
    {
     "name": "stderr",
     "output_type": "stream",
     "text": [
      " 73%|███████▎  | 117/160 [02:21<00:53,  1.25s/it]"
     ]
    },
    {
     "name": "stdout",
     "output_type": "stream",
     "text": [
      "Failed to fetch source from https://magyarnemzet.hu/kulfold/2024/11/ujabb-holttest-kerult-elo-a-spanyolorszagi-aradasok-helyszinen-video: 'NoneType' object has no attribute 'get_text'\n"
     ]
    },
    {
     "name": "stderr",
     "output_type": "stream",
     "text": [
      " 74%|███████▍  | 118/160 [02:22<00:48,  1.16s/it]"
     ]
    },
    {
     "name": "stdout",
     "output_type": "stream",
     "text": [
      "Failed to fetch source from https://magyarnemzet.hu/belfold/2024/11/letartoztatasban-marad-az-ir-ferfi-akit-azzal-gyanusitanak-szex-kozben-vegzett-egy-fiatal-amerikai-lannyal-budapesten: 'NoneType' object has no attribute 'get_text'\n"
     ]
    },
    {
     "name": "stderr",
     "output_type": "stream",
     "text": [
      " 74%|███████▍  | 119/160 [02:23<00:45,  1.10s/it]"
     ]
    },
    {
     "name": "stdout",
     "output_type": "stream",
     "text": [
      "Failed to fetch source from https://magyarnemzet.hu/belfold/2024/11/megszavazta-az-orszaggyules-gyurcsanynak-fizetnie-kell: 'NoneType' object has no attribute 'get_text'\n"
     ]
    },
    {
     "name": "stderr",
     "output_type": "stream",
     "text": [
      " 75%|███████▌  | 120/160 [02:24<00:42,  1.07s/it]"
     ]
    },
    {
     "name": "stdout",
     "output_type": "stream",
     "text": [
      "Failed to fetch source from https://magyarnemzet.hu/sport/2024/11/gulacsi-peter-inter-ajanlat-bajnokok-ligaja: 'NoneType' object has no attribute 'get_text'\n"
     ]
    },
    {
     "name": "stderr",
     "output_type": "stream",
     "text": [
      " 76%|███████▌  | 121/160 [02:25<00:39,  1.02s/it]"
     ]
    },
    {
     "name": "stdout",
     "output_type": "stream",
     "text": [
      "Failed to fetch source from https://magyarnemzet.hu/belfold/2024/11/marad-a-torvenytelen-allapot-nem-lesz-budapestnek-fopolgarmester-helyettese: 'NoneType' object has no attribute 'get_text'\n"
     ]
    },
    {
     "name": "stderr",
     "output_type": "stream",
     "text": [
      " 77%|███████▋  | 123/160 [02:26<00:36,  1.02it/s]"
     ]
    },
    {
     "name": "stdout",
     "output_type": "stream",
     "text": [
      "Failed to fetch source from https://magyarnemzet.hu/gazdasag/2024/11/nagy-marton-helyreallt-a-fogyasztas-massziv-emelkedes-volt-az-egeszsegpiacon-is: 'NoneType' object has no attribute 'get_text'\n"
     ]
    },
    {
     "name": "stderr",
     "output_type": "stream",
     "text": [
      " 79%|███████▉  | 126/160 [02:29<00:33,  1.02it/s]"
     ]
    },
    {
     "name": "stdout",
     "output_type": "stream",
     "text": [
      "Failed to fetch source from https://magyarnemzet.hu/sport/2024/11/mike-tyson-jake-paul-bundagyanu-hivatalos-valasz: 'NoneType' object has no attribute 'get_text'\n"
     ]
    },
    {
     "name": "stderr",
     "output_type": "stream",
     "text": [
      " 80%|████████  | 128/160 [02:32<00:32,  1.02s/it]"
     ]
    },
    {
     "name": "stdout",
     "output_type": "stream",
     "text": [
      "Failed to fetch source from https://magyarnemzet.hu/kulfold/2024/11/olyan-tel-jon-amit-talan-soha-nem-felejtunk: 'NoneType' object has no attribute 'get_text'\n"
     ]
    },
    {
     "name": "stderr",
     "output_type": "stream",
     "text": [
      " 81%|████████▏ | 130/160 [02:34<00:32,  1.08s/it]"
     ]
    },
    {
     "name": "stdout",
     "output_type": "stream",
     "text": [
      "Failed to fetch source from https://magyarnemzet.hu/belfold/2024/11/tisztan-latszik-hogy-magyar-peter-nem-tartja-egyenrangunak-a-noket-video: 'NoneType' object has no attribute 'get_text'\n"
     ]
    },
    {
     "name": "stderr",
     "output_type": "stream",
     "text": [
      " 82%|████████▏ | 131/160 [02:35<00:30,  1.06s/it]"
     ]
    },
    {
     "name": "stdout",
     "output_type": "stream",
     "text": [
      "Failed to fetch source from https://magyarnemzet.hu/belfold/2024/11/botranyos-kijelentesei-miatt-utasitjak-el-az-emberek-magyar-petert: 'NoneType' object has no attribute 'get_text'\n"
     ]
    },
    {
     "name": "stderr",
     "output_type": "stream",
     "text": [
      " 82%|████████▎ | 132/160 [02:36<00:32,  1.17s/it]"
     ]
    },
    {
     "name": "stdout",
     "output_type": "stream",
     "text": [
      "Failed to fetch source from https://magyarnemzet.hu/kulfold/2024/11/hallgatnak-magyar-peter-noi-parttarsai-a-legujabb-hangfelvetel-kapcsan: 'NoneType' object has no attribute 'get_text'\n"
     ]
    },
    {
     "name": "stderr",
     "output_type": "stream",
     "text": [
      " 83%|████████▎ | 133/160 [02:38<00:33,  1.24s/it]"
     ]
    },
    {
     "name": "stdout",
     "output_type": "stream",
     "text": [
      "Failed to fetch source from https://magyarnemzet.hu/belfold/2024/11/ha-magyar-peter-ezutan-nojogi-konferenciat-szervez-az-mar-a-vicc-kategoria: 'NoneType' object has no attribute 'get_text'\n"
     ]
    },
    {
     "name": "stderr",
     "output_type": "stream",
     "text": [
      " 84%|████████▍ | 134/160 [02:39<00:33,  1.27s/it]"
     ]
    },
    {
     "name": "stdout",
     "output_type": "stream",
     "text": [
      "Failed to fetch source from https://magyarnemzet.hu/belfold/2024/11/hiaba-nezi-szexualis-targynak-a-noket-magyar-peter-a-liberalis-szervezetek-hallgatnak: 'NoneType' object has no attribute 'get_text'\n"
     ]
    },
    {
     "name": "stderr",
     "output_type": "stream",
     "text": [
      " 84%|████████▍ | 135/160 [02:41<00:34,  1.37s/it]"
     ]
    },
    {
     "name": "stdout",
     "output_type": "stream",
     "text": [
      "Failed to fetch source from https://magyarnemzet.hu/belfold/2024/11/kocsis-mate-magyar-peterrol-ennek-a-frusztralt-bohocnak-totalisan-elment-az-esze-video: 'NoneType' object has no attribute 'get_text'\n"
     ]
    },
    {
     "name": "stderr",
     "output_type": "stream",
     "text": [
      " 85%|████████▌ | 136/160 [02:42<00:32,  1.34s/it]"
     ]
    },
    {
     "name": "stdout",
     "output_type": "stream",
     "text": [
      "Failed to fetch source from https://magyarnemzet.hu/belfold/2024/11/magyar-peter-a-noket-lenezi-de-ha-ferfival-talalkozik-osszecsinalja-magat-video: 'NoneType' object has no attribute 'get_text'\n"
     ]
    },
    {
     "name": "stderr",
     "output_type": "stream",
     "text": [
      " 86%|████████▌ | 137/160 [02:43<00:31,  1.38s/it]"
     ]
    },
    {
     "name": "stdout",
     "output_type": "stream",
     "text": [
      "Failed to fetch source from https://magyarnemzet.hu/belfold/2024/11/minden-no-tobbet-erdemel-magyar-peternel-video: 'NoneType' object has no attribute 'get_text'\n"
     ]
    },
    {
     "name": "stderr",
     "output_type": "stream",
     "text": [
      " 86%|████████▋ | 138/160 [02:45<00:32,  1.47s/it]"
     ]
    },
    {
     "name": "stdout",
     "output_type": "stream",
     "text": [
      "Failed to fetch source from https://magyarnemzet.hu/belfold/2024/11/gulyas-gergely-elore-szolt-az-apoloknak-hogy-magyar-peter-elmebeteg: 'NoneType' object has no attribute 'get_text'\n"
     ]
    },
    {
     "name": "stderr",
     "output_type": "stream",
     "text": [
      " 87%|████████▋ | 139/160 [02:46<00:29,  1.43s/it]"
     ]
    },
    {
     "name": "stdout",
     "output_type": "stream",
     "text": [
      "Failed to fetch source from https://magyarnemzet.hu/english/2024/11/pm-orban-hungary-continues-following-sensible-path-video: 'NoneType' object has no attribute 'get_text'\n"
     ]
    },
    {
     "name": "stderr",
     "output_type": "stream",
     "text": [
      " 88%|████████▊ | 140/160 [02:47<00:25,  1.27s/it]"
     ]
    },
    {
     "name": "stdout",
     "output_type": "stream",
     "text": [
      "Failed to fetch source from https://magyarnemzet.hu/sport/2024/11/gulacsi-peter-inter-ajanlat-bajnokok-ligaja: 'NoneType' object has no attribute 'get_text'\n"
     ]
    },
    {
     "name": "stderr",
     "output_type": "stream",
     "text": [
      " 88%|████████▊ | 141/160 [02:48<00:22,  1.17s/it]"
     ]
    },
    {
     "name": "stdout",
     "output_type": "stream",
     "text": [
      "Failed to fetch source from https://magyarnemzet.hu/belfold/2024/11/marad-a-torvenytelen-allapot-nem-lesz-budapestnek-fopolgarmester-helyettese: 'NoneType' object has no attribute 'get_text'\n"
     ]
    },
    {
     "name": "stderr",
     "output_type": "stream",
     "text": [
      " 89%|████████▉ | 143/160 [02:50<00:17,  1.05s/it]"
     ]
    },
    {
     "name": "stdout",
     "output_type": "stream",
     "text": [
      "Failed to fetch source from https://magyarnemzet.hu/gazdasag/2024/11/nagy-marton-helyreallt-a-fogyasztas-massziv-emelkedes-volt-az-egeszsegpiacon-is: 'NoneType' object has no attribute 'get_text'\n"
     ]
    },
    {
     "name": "stderr",
     "output_type": "stream",
     "text": [
      " 90%|█████████ | 144/160 [03:50<05:00, 18.76s/it]"
     ]
    },
    {
     "name": "stdout",
     "output_type": "stream",
     "text": [
      "Failed to fetch https://magyarnemzet.hu/belfold/2024/11/tobb-mint-negyven-milliard-forint-rendkivuli-tamogatast-kapnak-a-korhaznak-a-kormanytol:\n",
      "'NoneType' object has no attribute 'find_all'\n"
     ]
    },
    {
     "name": "stderr",
     "output_type": "stream",
     "text": [
      " 91%|█████████▏| 146/160 [03:53<02:17,  9.84s/it]"
     ]
    },
    {
     "name": "stdout",
     "output_type": "stream",
     "text": [
      "Failed to fetch source from https://magyarnemzet.hu/sport/2024/11/mike-tyson-jake-paul-bundagyanu-hivatalos-valasz: 'NoneType' object has no attribute 'get_text'\n"
     ]
    },
    {
     "name": "stderr",
     "output_type": "stream",
     "text": [
      " 93%|█████████▎| 149/160 [03:56<00:45,  4.13s/it]"
     ]
    },
    {
     "name": "stdout",
     "output_type": "stream",
     "text": [
      "Failed to fetch source from https://magyarnemzet.hu/kulfold/2024/11/ujabb-holttest-kerult-elo-a-spanyolorszagi-aradasok-helyszinen-video: 'NoneType' object has no attribute 'get_text'\n"
     ]
    },
    {
     "name": "stderr",
     "output_type": "stream",
     "text": [
      " 94%|█████████▍| 150/160 [03:58<00:34,  3.46s/it]"
     ]
    },
    {
     "name": "stdout",
     "output_type": "stream",
     "text": [
      "Failed to fetch source from https://magyarnemzet.hu/belfold/2024/11/letartoztatasban-marad-az-ir-ferfi-akit-azzal-gyanusitanak-szex-kozben-vegzett-egy-fiatal-amerikai-lannyal-budapesten: 'NoneType' object has no attribute 'get_text'\n"
     ]
    },
    {
     "name": "stderr",
     "output_type": "stream",
     "text": [
      " 94%|█████████▍| 151/160 [04:00<00:25,  2.89s/it]"
     ]
    },
    {
     "name": "stdout",
     "output_type": "stream",
     "text": [
      "Failed to fetch source from https://magyarnemzet.hu/belfold/2024/11/megszavazta-az-orszaggyules-gyurcsanynak-fizetnie-kell: 'NoneType' object has no attribute 'get_text'\n"
     ]
    },
    {
     "name": "stderr",
     "output_type": "stream",
     "text": [
      " 95%|█████████▌| 152/160 [04:01<00:18,  2.31s/it]"
     ]
    },
    {
     "name": "stdout",
     "output_type": "stream",
     "text": [
      "Failed to fetch source from https://magyarnemzet.hu/sport/2024/11/gulacsi-peter-inter-ajanlat-bajnokok-ligaja: 'NoneType' object has no attribute 'get_text'\n"
     ]
    },
    {
     "name": "stderr",
     "output_type": "stream",
     "text": [
      " 96%|█████████▌| 153/160 [04:02<00:14,  2.09s/it]"
     ]
    },
    {
     "name": "stdout",
     "output_type": "stream",
     "text": [
      "Failed to fetch source from https://magyarnemzet.hu/belfold/2024/11/marad-a-torvenytelen-allapot-nem-lesz-budapestnek-fopolgarmester-helyettese: 'NoneType' object has no attribute 'get_text'\n"
     ]
    },
    {
     "name": "stderr",
     "output_type": "stream",
     "text": [
      " 97%|█████████▋| 155/160 [04:04<00:07,  1.48s/it]"
     ]
    },
    {
     "name": "stdout",
     "output_type": "stream",
     "text": [
      "Failed to fetch source from https://magyarnemzet.hu/gazdasag/2024/11/nagy-marton-helyreallt-a-fogyasztas-massziv-emelkedes-volt-az-egeszsegpiacon-is: 'NoneType' object has no attribute 'get_text'\n"
     ]
    },
    {
     "name": "stderr",
     "output_type": "stream",
     "text": [
      " 99%|█████████▉| 158/160 [04:07<00:02,  1.17s/it]"
     ]
    },
    {
     "name": "stdout",
     "output_type": "stream",
     "text": [
      "Failed to fetch source from https://magyarnemzet.hu/sport/2024/11/mike-tyson-jake-paul-bundagyanu-hivatalos-valasz: 'NoneType' object has no attribute 'get_text'\n"
     ]
    },
    {
     "name": "stderr",
     "output_type": "stream",
     "text": [
      "100%|██████████| 160/160 [04:09<00:00,  1.08s/it]"
     ]
    },
    {
     "name": "stdout",
     "output_type": "stream",
     "text": [
      "Failed to fetch source from https://magyarnemzet.hu/kulfold/2024/11/olyan-tel-jon-amit-talan-soha-nem-felejtunk: 'NoneType' object has no attribute 'get_text'\n"
     ]
    },
    {
     "name": "stderr",
     "output_type": "stream",
     "text": [
      "100%|██████████| 160/160 [04:10<00:00,  1.57s/it]\n"
     ]
    }
   ],
   "source": [
    "# the below function takes about 4-5 minutes to run.\n",
    "df = (\n",
    "    pd.Series(urls)\n",
    "    .progress_apply(lambda x: fetch_and_parse_article(x))\n",
    "    .apply(pd.Series)\n",
    ")"
   ]
  }
 ],
 "metadata": {
  "kernelspec": {
   "display_name": "Python 3",
   "language": "python",
   "name": "python3"
  },
  "language_info": {
   "codemirror_mode": {
    "name": "ipython",
    "version": 3
   },
   "file_extension": ".py",
   "mimetype": "text/x-python",
   "name": "python",
   "nbconvert_exporter": "python",
   "pygments_lexer": "ipython3",
   "version": "3.13.0"
  }
 },
 "nbformat": 4,
 "nbformat_minor": 2
}
