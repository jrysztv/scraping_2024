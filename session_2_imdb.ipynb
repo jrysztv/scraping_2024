{
  "nbformat": 4,
  "nbformat_minor": 0,
  "metadata": {
    "colab": {
      "provenance": [],
      "authorship_tag": "ABX9TyNC56JI7G7YMUwlcqQws0T/",
      "include_colab_link": true
    },
    "kernelspec": {
      "name": "python3",
      "display_name": "Python 3"
    },
    "language_info": {
      "name": "python"
    }
  },
  "cells": [
    {
      "cell_type": "markdown",
      "metadata": {
        "id": "view-in-github",
        "colab_type": "text"
      },
      "source": [
        "<a href=\"https://colab.research.google.com/github/misrori/scraping_2024/blob/main/session_2_imdb.ipynb\" target=\"_parent\"><img src=\"https://colab.research.google.com/assets/colab-badge.svg\" alt=\"Open In Colab\"/></a>"
      ]
    },
    {
      "cell_type": "code",
      "execution_count": null,
      "metadata": {
        "id": "ysSrYXbh-_yH"
      },
      "outputs": [],
      "source": [
        "!pip install scrapethat"
      ]
    },
    {
      "cell_type": "code",
      "source": [
        "from scrapethat import *\n",
        "import json\n",
        "import pandas as pd\n",
        "from tqdm import tqdm"
      ],
      "metadata": {
        "id": "8NRv45TG_D3k"
      },
      "execution_count": null,
      "outputs": []
    },
    {
      "cell_type": "code",
      "source": [
        "t = read_cloud('https://www.imdb.com/title/tt4154796/')\n",
        "data = t.find_all('script', {'type': 'application/ld+json'})\n",
        "movie_list = json.loads(data[0].text)"
      ],
      "metadata": {
        "id": "JbQ_4rLYAKQz"
      },
      "execution_count": null,
      "outputs": []
    },
    {
      "cell_type": "code",
      "source": [
        "# that was the part that I excpected, make a nested list to key value pars(each movie will be one row), from list I created string (actors, directors)\n",
        "movie = {\n",
        "    'title' : movie_list['name'],\n",
        "    'url' : movie_list['url'],\n",
        "    'description' : movie_list['description'],\n",
        "    'review_author': movie_list['review']['author']['name'],\n",
        "    'review_name': movie_list['review']['name'],\n",
        "    'review_body': movie_list['review']['reviewBody'],\n",
        "    'review_count': movie_list['aggregateRating'][\"ratingCount\"],\n",
        "    'review_value': movie_list['aggregateRating'][\"ratingValue\"],\n",
        "    'contentRating': movie_list['contentRating'],\n",
        "    'genre':' # '.join(movie_list['genre']), # one string of list\n",
        "    'publish_date': movie_list['datePublished'],\n",
        "    'keywords': movie_list['keywords'],\n",
        "    'actors' : ' # '.join([x['name'] for x in  movie_list['actor'] ]), # one string of list\n",
        "    'directors' : ' # '.join([x['name'] for x in  movie_list['director'] ]), # one string of list\n",
        "    'creators' : ' # '.join([x['name'] for x in  movie_list['creator'] if 'name' in x.keys() ]) # one string of list\n",
        "}\n",
        "\n",
        "movie\n",
        "\n"
      ],
      "metadata": {
        "id": "Yc7OvZgIM143",
        "colab": {
          "base_uri": "https://localhost:8080/"
        },
        "outputId": "bdee85f6-510b-460d-bae1-8a8e6da514ed"
      },
      "execution_count": null,
      "outputs": [
        {
          "output_type": "execute_result",
          "data": {
            "text/plain": [
              "{'title': 'Avengers: Endgame',\n",
              " 'url': 'https://www.imdb.com/title/tt4154796/',\n",
              " 'description': 'After the devastating events of Avengers: Infinity War (2018), the universe is in ruins. With the help of remaining allies, the Avengers assemble once more in order to reverse Thanos&apos; actions and restore balance to the universe.',\n",
              " 'review_author': 'dhiraj-yahoo',\n",
              " 'review_name': 'Perfect ending',\n",
              " 'review_body': 'After watching Infinity war, I was looking forward to much more this time, still a perfect ending.',\n",
              " 'review_count': 1309646,\n",
              " 'review_value': 8.4,\n",
              " 'contentRating': 'PG-13',\n",
              " 'genre': 'Action # Adventure # Drama',\n",
              " 'publish_date': '2019-04-26',\n",
              " 'keywords': 'time travel,superhero,super villain,cosmic,marvel cinematic universe',\n",
              " 'actors': 'Robert Downey Jr. # Chris Evans # Mark Ruffalo',\n",
              " 'directors': 'Anthony Russo # Joe Russo',\n",
              " 'creators': 'Christopher Markus # Stephen McFeely # Stan Lee'}"
            ]
          },
          "metadata": {},
          "execution_count": 5
        }
      ]
    },
    {
      "cell_type": "code",
      "source": [
        "# create function\n",
        "\n",
        "def get_one_movie(link):\n",
        "    t = read_cloud(link)\n",
        "    data = t.find_all('script', {'type': 'application/ld+json'})\n",
        "    movie_list = json.loads(data[0].text)\n",
        "\n",
        "    movie = {\n",
        "    'title' : movie_list['name'],\n",
        "    'url' : movie_list['url'],\n",
        "    'description' : movie_list['description'],\n",
        "    'review_author': movie_list['review']['author']['name'],\n",
        "    'review_name': movie_list['review']['name'],\n",
        "    'review_body': movie_list['review']['reviewBody'],\n",
        "    'review_count': movie_list['aggregateRating'][\"ratingCount\"],\n",
        "    'review_value': movie_list['aggregateRating'][\"ratingValue\"],\n",
        "    'contentRating': movie_list['contentRating'],\n",
        "    'genre':' # '.join(movie_list['genre']), # one string of list\n",
        "    'publish_date': movie_list['datePublished'],\n",
        "    'keywords': movie_list['keywords'],\n",
        "    'actors' : ' # '.join([x['name'] for x in  movie_list['actor'] ]), # one string of list\n",
        "    'directors' : ' # '.join([x['name'] for x in  movie_list['director'] ]), # one string of list\n",
        "    'creators' : ' # '.join([x['name'] for x in  movie_list['creator'] if 'name' in x.keys() ]) # one string of list\n",
        "    }\n",
        "\n",
        "    return(movie)\n",
        "\n",
        "\n",
        "# test it\n",
        "get_one_movie('https://www.imdb.com/title/tt0071562')"
      ],
      "metadata": {
        "id": "zTSk8itE6Jae"
      },
      "execution_count": null,
      "outputs": []
    },
    {
      "cell_type": "code",
      "source": [],
      "metadata": {
        "id": "Qt_vGU2X6JNo"
      },
      "execution_count": null,
      "outputs": []
    },
    {
      "cell_type": "code",
      "source": [
        "# Get a list of links to the top250 movies\n",
        "topmovies = read_cloud('https://www.imdb.com/chart/top/?ref_=nv_mv_250')\n",
        "elements = topmovies.select(='.ipc-title-link-wrapper')\n",
        "links_list = [f\"https://www.imdb.com{x.get('href')}\" for x in elements if x.get('href').startswith('/title/') ]\n",
        "links_list[0:10]"
      ],
      "metadata": {
        "id": "cCJ5KHs4n9FU",
        "colab": {
          "base_uri": "https://localhost:8080/"
        },
        "outputId": "2004f68c-d2df-4df7-fc1b-da1beac8089c"
      },
      "execution_count": null,
      "outputs": [
        {
          "output_type": "execute_result",
          "data": {
            "text/plain": [
              "['https://www.imdb.com/title/tt0111161/?ref_=chttp_t_1',\n",
              " 'https://www.imdb.com/title/tt0068646/?ref_=chttp_t_2',\n",
              " 'https://www.imdb.com/title/tt0468569/?ref_=chttp_t_3',\n",
              " 'https://www.imdb.com/title/tt0071562/?ref_=chttp_t_4',\n",
              " 'https://www.imdb.com/title/tt0050083/?ref_=chttp_t_5',\n",
              " 'https://www.imdb.com/title/tt0108052/?ref_=chttp_t_6',\n",
              " 'https://www.imdb.com/title/tt0167260/?ref_=chttp_t_7',\n",
              " 'https://www.imdb.com/title/tt0110912/?ref_=chttp_t_8',\n",
              " 'https://www.imdb.com/title/tt0120737/?ref_=chttp_t_9',\n",
              " 'https://www.imdb.com/title/tt0060196/?ref_=chttp_t_10']"
            ]
          },
          "metadata": {},
          "execution_count": 34
        }
      ]
    },
    {
      "cell_type": "code",
      "source": [
        "df = pd.DataFrame(list(map(get_one_movie, tqdm(links_list[0:10]))))"
      ],
      "metadata": {
        "colab": {
          "base_uri": "https://localhost:8080/"
        },
        "id": "VE6pDrWX4HC6",
        "outputId": "98242e77-b4aa-4e99-c028-c9bde6609c0e"
      },
      "execution_count": null,
      "outputs": [
        {
          "output_type": "stream",
          "name": "stderr",
          "text": [
            "100%|██████████| 10/10 [00:15<00:00,  1.52s/it]\n"
          ]
        }
      ]
    },
    {
      "cell_type": "code",
      "source": [
        "df.head()"
      ],
      "metadata": {
        "id": "ewd7INoMEBvO"
      },
      "execution_count": null,
      "outputs": []
    },
    {
      "cell_type": "code",
      "source": [
        "df.head(2).T"
      ],
      "metadata": {
        "id": "rV0Zy14D7GvG"
      },
      "execution_count": null,
      "outputs": []
    },
    {
      "cell_type": "code",
      "source": [],
      "metadata": {
        "id": "_j5wI-ZJ7IyG"
      },
      "execution_count": null,
      "outputs": []
    }
  ]
}