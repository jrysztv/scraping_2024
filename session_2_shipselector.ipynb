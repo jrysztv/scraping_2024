{
  "nbformat": 4,
  "nbformat_minor": 0,
  "metadata": {
    "colab": {
      "provenance": [],
      "authorship_tag": "ABX9TyPVKx496DhQIvOhTqVjttah",
      "include_colab_link": true
    },
    "kernelspec": {
      "name": "python3",
      "display_name": "Python 3"
    },
    "language_info": {
      "name": "python"
    }
  },
  "cells": [
    {
      "cell_type": "markdown",
      "metadata": {
        "id": "view-in-github",
        "colab_type": "text"
      },
      "source": [
        "<a href=\"https://colab.research.google.com/github/misrori/scraping_2024/blob/main/session_2_shipselector.ipynb\" target=\"_parent\"><img src=\"https://colab.research.google.com/assets/colab-badge.svg\" alt=\"Open In Colab\"/></a>"
      ]
    },
    {
      "cell_type": "code",
      "execution_count": null,
      "metadata": {
        "id": "pf8GQGWbjJFl"
      },
      "outputs": [],
      "source": [
        "!pip install scrapethat\n"
      ]
    },
    {
      "cell_type": "code",
      "source": [
        "from scrapethat import *\n",
        "# step 1: get the links of every single ship on the first main page\n",
        "t = read_cloud('https://shipselector.com/offers/sale')\n",
        "links_node = t.select('.offer-title')\n",
        "links = [x['href'] for x in links_node]\n",
        "print(len(links))\n",
        "links"
      ],
      "metadata": {
        "id": "xa28wjSQjRo1"
      },
      "execution_count": null,
      "outputs": []
    },
    {
      "cell_type": "code",
      "source": [
        "# step 2: get the information of a single ship\n",
        "t = read_html('https://shipselector.com/offers/sale/passenger-vessel/crew-vessel/15155-volvo-ips-drives-19m-12-pax-crew-transfer-vessel')\n",
        "values = strip_texts(get_texts(t.select('.right-label')))\n",
        "keys = strip_texts(get_texts(t.select('.left-label')))\n",
        "data = dict(zip(keys, values))\n",
        "data"
      ],
      "metadata": {
        "id": "P-eKPuZVA4-S"
      },
      "execution_count": null,
      "outputs": []
    },
    {
      "cell_type": "code",
      "source": [
        "info_list = t.select('.ship-info-list li')\n",
        "info_data = {}\n",
        "for x in info_list:\n",
        "  info_data[x.select_one('.left-label').text.strip()] = x.select_one('.right-label').text.strip()\n",
        "info_data\n",
        "\n",
        "info_data['description'] =t.select('p')[1].text.strip()\n",
        "info_data\n"
      ],
      "metadata": {
        "id": "MyrC4geMYqHr"
      },
      "execution_count": null,
      "outputs": []
    },
    {
      "cell_type": "code",
      "source": [
        "def get_one_ship(link):\n",
        "    t = read_html(link)\n",
        "    info_list = t.select('.ship-info-list li')\n",
        "    info_data = {}\n",
        "    for x in info_list:\n",
        "        info_data[x.select_one('.left-label').text.strip()] = x.select_one('.right-label').text.strip()\n",
        "\n",
        "    info_data['description'] =t.select('p')[1].text.strip()\n",
        "    info_data['link'] = link\n",
        "    return(info_data)"
      ],
      "metadata": {
        "id": "TayyC418aX-_"
      },
      "execution_count": null,
      "outputs": []
    },
    {
      "cell_type": "code",
      "source": [
        "import pandas as pd\n",
        "df = pd.DataFrame(list(map(get_one_ship, links)))\n",
        "df"
      ],
      "metadata": {
        "id": "CBVpIn14bw0Y"
      },
      "execution_count": null,
      "outputs": []
    },
    {
      "cell_type": "code",
      "source": [
        "# get more_links\n",
        "\n",
        "t = read_cloud('https://shipselector.com/offers/sale')\n",
        "links_node = t.select('.offer-title')\n",
        "links = [x['href'] for x in links_node]\n",
        "print(len(links))\n",
        "links"
      ],
      "metadata": {
        "id": "CuXok_7leE-f"
      },
      "execution_count": null,
      "outputs": []
    },
    {
      "cell_type": "code",
      "source": [
        "pages = ['https://shipselector.com/offers/sale']\n",
        "pages.extend([f'https://shipselector.com/offers/sale?page={x}' for x in range(2, 5)])"
      ],
      "metadata": {
        "id": "ioMn7-uieSKR"
      },
      "execution_count": null,
      "outputs": []
    },
    {
      "cell_type": "code",
      "source": [
        "all_links = []\n",
        "for page in pages:\n",
        "    t = read_cloud(page)\n",
        "    links_node = t.select('.offer-title')\n",
        "    all_links.extend([x['href'] for x in links_node])\n",
        "\n",
        "all_links"
      ],
      "metadata": {
        "id": "Vyv-ClIMec5w"
      },
      "execution_count": null,
      "outputs": []
    },
    {
      "cell_type": "code",
      "source": [
        "len(all_links)"
      ],
      "metadata": {
        "colab": {
          "base_uri": "https://localhost:8080/"
        },
        "id": "5gVhM7EuemYv",
        "outputId": "5404d135-1e45-4aa0-e19b-4441b68ee1d3"
      },
      "execution_count": null,
      "outputs": [
        {
          "output_type": "execute_result",
          "data": {
            "text/plain": [
              "180"
            ]
          },
          "metadata": {},
          "execution_count": 32
        }
      ]
    },
    {
      "cell_type": "code",
      "source": [
        "len(set(all_links))"
      ],
      "metadata": {
        "colab": {
          "base_uri": "https://localhost:8080/"
        },
        "id": "1pXyBaGwfPbM",
        "outputId": "5d57ca50-ae87-44fb-eb69-e3df224f0795"
      },
      "execution_count": null,
      "outputs": [
        {
          "output_type": "execute_result",
          "data": {
            "text/plain": [
              "180"
            ]
          },
          "metadata": {},
          "execution_count": 33
        }
      ]
    },
    {
      "cell_type": "code",
      "source": [],
      "metadata": {
        "id": "Nqd-HjnkfQ_q"
      },
      "execution_count": null,
      "outputs": []
    }
  ]
}