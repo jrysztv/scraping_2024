{
  "nbformat": 4,
  "nbformat_minor": 0,
  "metadata": {
    "colab": {
      "provenance": [],
      "authorship_tag": "ABX9TyPK0ee+FKV6PYgyGSnem4ET",
      "include_colab_link": true
    },
    "kernelspec": {
      "name": "python3",
      "display_name": "Python 3"
    },
    "language_info": {
      "name": "python"
    }
  },
  "cells": [
    {
      "cell_type": "markdown",
      "metadata": {
        "id": "view-in-github",
        "colab_type": "text"
      },
      "source": [
        "<a href=\"https://colab.research.google.com/github/misrori/scraping_2024/blob/main/session_1_on_class.ipynb\" target=\"_parent\"><img src=\"https://colab.research.google.com/assets/colab-badge.svg\" alt=\"Open In Colab\"/></a>"
      ]
    },
    {
      "cell_type": "code",
      "execution_count": null,
      "metadata": {
        "id": "4CiN7OYM1CSL"
      },
      "outputs": [],
      "source": [
        "from bs4 import BeautifulSoup\n",
        "import requests\n",
        "import pandas as pd"
      ]
    },
    {
      "cell_type": "code",
      "source": [
        "url= \"https://misrori.github.io/scraping_2024\"\n",
        "t = requests.get(url)"
      ],
      "metadata": {
        "id": "k78QluTq1LBG"
      },
      "execution_count": null,
      "outputs": []
    },
    {
      "cell_type": "code",
      "source": [
        "t.text"
      ],
      "metadata": {
        "colab": {
          "base_uri": "https://localhost:8080/",
          "height": 140
        },
        "id": "RlFAU1Sm1ZXj",
        "outputId": "3c11d7f6-6d13-4651-83cf-a1980183a046"
      },
      "execution_count": null,
      "outputs": [
        {
          "output_type": "execute_result",
          "data": {
            "text/plain": [
              "'<!DOCTYPE html>\\n<html lang=\"en\">\\n<head>\\n    <meta charset=\"UTF-8\">\\n    <meta name=\"viewport\" content=\"width=device-width, initial-scale=1.0\">\\n    <title>University List with Python Code</title>\\n</head>\\n<body>\\n    <h1>Universities Around the World</h1>\\n\\n    <!-- University 1 -->\\n    <div class=\"university\" id=\"uni-1\">\\n        <h2 class=\"name\">Harvard University</h2>\\n        <p class=\"location\">Location: Cambridge, Massachusetts, USA</p>\\n        <p class=\"description\">Harvard is one of the most prestigious universities in the world.</p>\\n    </div>\\n\\n    <!-- University 2 -->\\n    <div class=\"university\" id=\"uni-2\">\\n        <h2 class=\"name\">University of Cambridge</h2>\\n        <p class=\"location\">Location: Cambridge, England</p>\\n        <p class=\"description\">The University of Cambridge is known for its excellence in research and education.</p>\\n    </div>\\n\\n    <!-- University 3 -->\\n    <div class=\"university\" id=\"uni-3\">\\n        <h2 class=\"name\">Central European University</h2>\\n        <p class=\"location\">Location: Vienna, Austria</p>\\n        <p class=\"description\">CEU is The best university ever.</p>\\n    </div>\\n\\n    <!-- A table of universities with rankings -->\\n    <h3>University Rankings</h3>\\n    <table border=\"1\" class=\"rankings\">\\n        <tr>\\n            <th>Rank</th>\\n            <th>University</th>\\n            <th>Country</th>\\n        </tr>\\n        <tr>\\n            <td>1</td>\\n            <td>Harvard University</td>\\n            <td>USA</td>\\n        </tr>\\n        <tr>\\n            <td>2</td>\\n            <td>University of Cambridge</td>\\n            <td>UK</td>\\n        </tr>\\n        <tr>\\n            <td>3</td>\\n            <td>Stanford University</td>\\n            <td>USA</td>\\n        </tr>\\n    </table>\\n\\n    <!-- List of additional universities -->\\n    <h3>Additional Universities</h3>\\n    <ul>\\n        <li>Massachusetts Institute of Technology (MIT)</li>\\n        <li>University of Oxford</li>\\n        <li>California Institute of Technology (Caltech)</li>\\n    </ul>\\n\\n    <!-- Python Code Block -->\\n    <h2>Python Code for Web Scraping</h2>\\n    <pre><code>\\nfrom bs4 import BeautifulSoup\\n\\n# Load the HTML content\\nwith open(\"universities.html\", \"r\") as file:\\n    html_content = file.read()\\n\\nsoup = BeautifulSoup(html_content, \"html.parser\")\\n\\n# Using find and find_all\\nfirst_university = soup.find(\"div\", class_=\"university\")\\nall_universities = soup.find_all(\"div\", class_=\"university\")\\n\\nprint(\"First university using find:\")\\nprint(first_university.h2.text)\\n\\nprint(\"\\\\nAll universities using find_all:\")\\nfor uni in all_universities:\\n    print(uni.h2.text)\\n\\n# Using select and select_one\\nfirst_university_select = soup.select_one(\".university\")\\nall_universities_select = soup.select(\".university\")\\n\\nprint(\"\\\\nFirst university using select_one:\")\\nprint(first_university_select.h2.text)\\n\\nprint(\"\\\\nAll universities using select:\")\\nfor uni in all_universities_select:\\n    print(uni.h2.text)\\n    </code></pre>\\n\\n</body>\\n</html>\\n'"
            ],
            "application/vnd.google.colaboratory.intrinsic+json": {
              "type": "string"
            }
          },
          "metadata": {},
          "execution_count": 4
        }
      ]
    },
    {
      "cell_type": "code",
      "source": [
        "soup= BeautifulSoup(t.text, \"html.parser\")"
      ],
      "metadata": {
        "id": "fGHR5qnY1aNq"
      },
      "execution_count": null,
      "outputs": []
    },
    {
      "cell_type": "code",
      "source": [
        "soup.select(\"h1\")\n",
        "soup.select_one(\"h1\")\n",
        "soup.find(\"h1\")\n",
        "soup.find_all(\"h1\")"
      ],
      "metadata": {
        "id": "PKip0Tuz2N5C"
      },
      "execution_count": null,
      "outputs": []
    },
    {
      "cell_type": "code",
      "source": [
        "soup.select_one(\"h1\").text"
      ],
      "metadata": {
        "colab": {
          "base_uri": "https://localhost:8080/",
          "height": 36
        },
        "id": "BHIWprNf3PYQ",
        "outputId": "829914a1-17ff-4768-d808-44b38cb7e3c4"
      },
      "execution_count": null,
      "outputs": [
        {
          "output_type": "execute_result",
          "data": {
            "text/plain": [
              "'Universities Around the World'"
            ],
            "application/vnd.google.colaboratory.intrinsic+json": {
              "type": "string"
            }
          },
          "metadata": {},
          "execution_count": 10
        }
      ]
    },
    {
      "cell_type": "code",
      "source": [
        "uni_list = soup.select('.name')"
      ],
      "metadata": {
        "id": "zOdwhG0r3RMo"
      },
      "execution_count": null,
      "outputs": []
    },
    {
      "cell_type": "code",
      "source": [
        "[x+1 for x in range(10) if x%2==0]"
      ],
      "metadata": {
        "colab": {
          "base_uri": "https://localhost:8080/"
        },
        "id": "_GI6dG2V48Ut",
        "outputId": "27e2fec4-8506-4808-80f6-182c66c25337"
      },
      "execution_count": null,
      "outputs": [
        {
          "output_type": "execute_result",
          "data": {
            "text/plain": [
              "[1, 3, 5, 7, 9]"
            ]
          },
          "metadata": {},
          "execution_count": 24
        }
      ]
    },
    {
      "cell_type": "code",
      "source": [
        "university_names_list= [one_uni.text for one_uni in uni_list]"
      ],
      "metadata": {
        "id": "GaAfmARQ4qey"
      },
      "execution_count": null,
      "outputs": []
    },
    {
      "cell_type": "code",
      "source": [
        "for one_uni in uni_list:\n",
        "    print(one_uni.text)"
      ],
      "metadata": {
        "colab": {
          "base_uri": "https://localhost:8080/"
        },
        "id": "HqLAgkxY4iD_",
        "outputId": "0e7a12fb-b532-416f-c493-be6d34ed2fef"
      },
      "execution_count": null,
      "outputs": [
        {
          "output_type": "stream",
          "name": "stdout",
          "text": [
            "Harvard University\n",
            "University of Cambridge\n",
            "Central European University\n"
          ]
        }
      ]
    },
    {
      "cell_type": "code",
      "source": [
        "for i in range(10):\n",
        "    print(i)"
      ],
      "metadata": {
        "colab": {
          "base_uri": "https://localhost:8080/"
        },
        "id": "6v_oMw1F4aaX",
        "outputId": "0f62a3ba-354c-4e36-bedd-45ada8e2fa85"
      },
      "execution_count": null,
      "outputs": [
        {
          "output_type": "stream",
          "name": "stdout",
          "text": [
            "0\n",
            "1\n",
            "2\n",
            "3\n",
            "4\n",
            "5\n",
            "6\n",
            "7\n",
            "8\n",
            "9\n"
          ]
        }
      ]
    },
    {
      "cell_type": "code",
      "source": [
        "soup.select_one('.name').text"
      ],
      "metadata": {
        "colab": {
          "base_uri": "https://localhost:8080/",
          "height": 36
        },
        "id": "Xg9OebAd3yeG",
        "outputId": "7cb5550c-44f3-4374-c6b7-1872082d71d2"
      },
      "execution_count": null,
      "outputs": [
        {
          "output_type": "execute_result",
          "data": {
            "text/plain": [
              "'Harvard University'"
            ],
            "application/vnd.google.colaboratory.intrinsic+json": {
              "type": "string"
            }
          },
          "metadata": {},
          "execution_count": 15
        }
      ]
    },
    {
      "cell_type": "code",
      "source": [
        "[x.text for x in soup.select('li')]"
      ],
      "metadata": {
        "colab": {
          "base_uri": "https://localhost:8080/"
        },
        "id": "MjtLv3ZV33Gb",
        "outputId": "acffcddc-08a6-4264-d2bf-57ddc1369837"
      },
      "execution_count": null,
      "outputs": [
        {
          "output_type": "execute_result",
          "data": {
            "text/plain": [
              "['Massachusetts Institute of Technology (MIT)',\n",
              " 'University of Oxford',\n",
              " 'California Institute of Technology (Caltech)']"
            ]
          },
          "metadata": {},
          "execution_count": 28
        }
      ]
    },
    {
      "cell_type": "code",
      "source": [
        "soup.select_one(\"#uni-3\").select_one('.location').text"
      ],
      "metadata": {
        "colab": {
          "base_uri": "https://localhost:8080/",
          "height": 36
        },
        "id": "cO-eof8r6J_l",
        "outputId": "a8eea5a4-1b8e-4f39-82c4-aac2945b4d65"
      },
      "execution_count": null,
      "outputs": [
        {
          "output_type": "execute_result",
          "data": {
            "text/plain": [
              "'Location: Vienna, Austria'"
            ],
            "application/vnd.google.colaboratory.intrinsic+json": {
              "type": "string"
            }
          },
          "metadata": {},
          "execution_count": 32
        }
      ]
    },
    {
      "cell_type": "code",
      "source": [
        "!pip install scrapethat"
      ],
      "metadata": {
        "colab": {
          "base_uri": "https://localhost:8080/"
        },
        "id": "jiya-phs6i0v",
        "outputId": "9719c133-a152-442c-d73a-1cecf74823b6"
      },
      "execution_count": null,
      "outputs": [
        {
          "output_type": "stream",
          "name": "stdout",
          "text": [
            "Collecting scrapethat\n",
            "  Downloading scrapethat-1.0.3-py3-none-any.whl.metadata (329 bytes)\n",
            "Collecting bs4 (from scrapethat)\n",
            "  Downloading bs4-0.0.2-py2.py3-none-any.whl.metadata (411 bytes)\n",
            "Requirement already satisfied: requests in /usr/local/lib/python3.10/dist-packages (from scrapethat) (2.32.3)\n",
            "Requirement already satisfied: pandas in /usr/local/lib/python3.10/dist-packages (from scrapethat) (2.2.2)\n",
            "Collecting cloudscraper (from scrapethat)\n",
            "  Downloading cloudscraper-1.2.71-py2.py3-none-any.whl.metadata (19 kB)\n",
            "Requirement already satisfied: beautifulsoup4 in /usr/local/lib/python3.10/dist-packages (from bs4->scrapethat) (4.12.3)\n",
            "Requirement already satisfied: pyparsing>=2.4.7 in /usr/local/lib/python3.10/dist-packages (from cloudscraper->scrapethat) (3.2.0)\n",
            "Requirement already satisfied: requests-toolbelt>=0.9.1 in /usr/local/lib/python3.10/dist-packages (from cloudscraper->scrapethat) (1.0.0)\n",
            "Requirement already satisfied: charset-normalizer<4,>=2 in /usr/local/lib/python3.10/dist-packages (from requests->scrapethat) (3.4.0)\n",
            "Requirement already satisfied: idna<4,>=2.5 in /usr/local/lib/python3.10/dist-packages (from requests->scrapethat) (3.10)\n",
            "Requirement already satisfied: urllib3<3,>=1.21.1 in /usr/local/lib/python3.10/dist-packages (from requests->scrapethat) (2.2.3)\n",
            "Requirement already satisfied: certifi>=2017.4.17 in /usr/local/lib/python3.10/dist-packages (from requests->scrapethat) (2024.8.30)\n",
            "Requirement already satisfied: numpy>=1.22.4 in /usr/local/lib/python3.10/dist-packages (from pandas->scrapethat) (1.26.4)\n",
            "Requirement already satisfied: python-dateutil>=2.8.2 in /usr/local/lib/python3.10/dist-packages (from pandas->scrapethat) (2.8.2)\n",
            "Requirement already satisfied: pytz>=2020.1 in /usr/local/lib/python3.10/dist-packages (from pandas->scrapethat) (2024.2)\n",
            "Requirement already satisfied: tzdata>=2022.7 in /usr/local/lib/python3.10/dist-packages (from pandas->scrapethat) (2024.2)\n",
            "Requirement already satisfied: six>=1.5 in /usr/local/lib/python3.10/dist-packages (from python-dateutil>=2.8.2->pandas->scrapethat) (1.16.0)\n",
            "Requirement already satisfied: soupsieve>1.2 in /usr/local/lib/python3.10/dist-packages (from beautifulsoup4->bs4->scrapethat) (2.6)\n",
            "Downloading scrapethat-1.0.3-py3-none-any.whl (2.1 kB)\n",
            "Downloading bs4-0.0.2-py2.py3-none-any.whl (1.2 kB)\n",
            "Downloading cloudscraper-1.2.71-py2.py3-none-any.whl (99 kB)\n",
            "\u001b[2K   \u001b[90m━━━━━━━━━━━━━━━━━━━━━━━━━━━━━━━━━━━━━━━━\u001b[0m \u001b[32m99.7/99.7 kB\u001b[0m \u001b[31m5.4 MB/s\u001b[0m eta \u001b[36m0:00:00\u001b[0m\n",
            "\u001b[?25hInstalling collected packages: bs4, cloudscraper, scrapethat\n",
            "Successfully installed bs4-0.0.2 cloudscraper-1.2.71 scrapethat-1.0.3\n"
          ]
        }
      ]
    },
    {
      "cell_type": "code",
      "source": [
        "from scrapethat import *"
      ],
      "metadata": {
        "id": "Pkx9-ztn7tQ3"
      },
      "execution_count": null,
      "outputs": []
    },
    {
      "cell_type": "code",
      "source": [
        "t = read_cloud('https://www.geekwire.com/startups/page/2')"
      ],
      "metadata": {
        "id": "zw09-OrJ7zUy"
      },
      "execution_count": null,
      "outputs": []
    },
    {
      "cell_type": "code",
      "source": [],
      "metadata": {
        "id": "FnN2Wik__Too"
      },
      "execution_count": null,
      "outputs": []
    },
    {
      "cell_type": "code",
      "source": [
        "titles = [x.text for x in t.select('.entry-title')]\n",
        "teaser_text = [x.text.strip() for x in t.select('.entry-summary')]\n",
        "item_links = [x.select_one('a')['href'] for x in t.select('.entry-title')]"
      ],
      "metadata": {
        "id": "COjmmdTC74T5"
      },
      "execution_count": null,
      "outputs": []
    },
    {
      "cell_type": "code",
      "source": [
        "pd.DataFrame({\n",
        "    'title': titles,\n",
        "    'teaser_text': teaser_text,\n",
        "    'item_links': item_links\n",
        "})"
      ],
      "metadata": {
        "id": "pTCfi-vW76dx"
      },
      "execution_count": null,
      "outputs": []
    },
    {
      "cell_type": "code",
      "source": [
        "t.select_one('.entry-title').select_one('a')['href']"
      ],
      "metadata": {
        "colab": {
          "base_uri": "https://localhost:8080/",
          "height": 36
        },
        "id": "L_PACLoA-d0R",
        "outputId": "20db7c7f-7e28-4f19-af86-008c420a9aa2"
      },
      "execution_count": null,
      "outputs": [
        {
          "output_type": "execute_result",
          "data": {
            "text/plain": [
              "'https://www.geekwire.com/2024/uber-for-ocean-intelligence-startup-wins-bellingham-angels-pitch-competition/'"
            ],
            "application/vnd.google.colaboratory.intrinsic+json": {
              "type": "string"
            }
          },
          "metadata": {},
          "execution_count": 54
        }
      ]
    },
    {
      "cell_type": "code",
      "source": [
        "# nicer\n",
        "t = read_cloud('https://www.geekwire.com/startups/page/2')\n",
        "\n",
        "teasers = t.select('.teaser-text')\n",
        "\n",
        "def get_article_info(article):\n",
        "    try:\n",
        "        article_data = {\n",
        "            \"title\":  article.select_one('.entry-title').text,\n",
        "            \"teaser\": article.select_one('.entry-summary').text.strip(),\n",
        "            \"link\":   article.select_one('a')['href']\n",
        "        }\n",
        "        return (article_data)\n",
        "    except:\n",
        "        return {}\n",
        "\n",
        "pd.DataFrame( list(map(get_article_info, teasers)))"
      ],
      "metadata": {
        "id": "wPBE8izGATjL"
      },
      "execution_count": null,
      "outputs": []
    },
    {
      "cell_type": "code",
      "source": [
        "def process_one_page(link):\n",
        "    t = read_cloud(link)\n",
        "    teasers = t.select('.teaser-text')\n",
        "    return pd.DataFrame( list(map(get_article_info, teasers)))\n",
        "\n",
        "page_links = [f\"https://www.geekwire.com/startups/page/{x}'\" for x in range(1,5)]\n",
        "\n"
      ],
      "metadata": {
        "id": "X5ecItq-IJqQ"
      },
      "execution_count": null,
      "outputs": []
    },
    {
      "cell_type": "code",
      "source": [
        "list_of_dfs = list(map(process_one_page, page_links))"
      ],
      "metadata": {
        "id": "M3bN5rn1Ib9v"
      },
      "execution_count": null,
      "outputs": []
    },
    {
      "cell_type": "code",
      "source": [
        "all_data = pd.concat(list_of_dfs, ignore_index=True)"
      ],
      "metadata": {
        "id": "jQv7ZL1zJJMj"
      },
      "execution_count": null,
      "outputs": []
    },
    {
      "cell_type": "code",
      "source": [],
      "metadata": {
        "id": "O21JV-mKJasM"
      },
      "execution_count": null,
      "outputs": []
    },
    {
      "cell_type": "code",
      "source": [
        "pd.DataFrame( list(map(get_article_info, teasers)))"
      ],
      "metadata": {
        "colab": {
          "base_uri": "https://localhost:8080/",
          "height": 990
        },
        "id": "9FTBtMNBFPA2",
        "outputId": "917c6ea8-3fb0-4a43-f1a6-1381d54e25c3"
      },
      "execution_count": null,
      "outputs": [
        {
          "output_type": "execute_result",
          "data": {
            "text/plain": [
              "                                                title  \\\n",
              "0   Former Amazon exec Dave Clark is back in Seatt...   \n",
              "1   Siteimprove to acquire content marketing strat...   \n",
              "2   As Americans lose billions of dollars to digit...   \n",
              "3   Seattle Kraken owner Samantha Holloway leans o...   \n",
              "4   How venture capital could ‘fundamentally chang...   \n",
              "5   Former SeaChange investors form new angel grou...   \n",
              "6   Seattle startup Vieu raises $11M to reimagine ...   \n",
              "7   Bill Gates-backed TerraPower Isotopes produces...   \n",
              "8   Inventory-tracking startup Augmodo raises $5.3...   \n",
              "9   Dementia care startup Rippl lands $23M to expa...   \n",
              "10  As stolen bikes are hawked online, cyclists ca...   \n",
              "11  This new ‘business performance OS’ startup use...   \n",
              "12  Tech Moves: Flexe taps new CTO; Talus adds hea...   \n",
              "13  This $250 wearable head device aims to train y...   \n",
              "14  Deepfake detection startup Loti raises investm...   \n",
              "15  Tech Moves: Ada Developers Academy gets new CE...   \n",
              "16  Seattle’s startup ecosystem could use more ‘lo...   \n",
              "17  Starfish Space brings in new funding as it gea...   \n",
              "18  Inside the new ‘serendipity factory’ trying to...   \n",
              "19  Tech Moves: GE healthcare exec joins startup; ...   \n",
              "20  Zillow adds climate risk data to its real esta...   \n",
              "21  Chip giant Nvidia acquires OctoAI, a Seattle s...   \n",
              "22  Women’s sexual health startup Joylux gets cele...   \n",
              "23  LinkedIn’s top 50 startups list: 3 Seattle-are...   \n",
              "24  Freeze! Comments about the social dynamic in S...   \n",
              "25  Radian Aerospace completes its first round of ...   \n",
              "26  How the Seattle Freeze and ‘celebration of pes...   \n",
              "27  Freight fintech startup Outgo raises $15M to h...   \n",
              "28  This new Seattle marketplace startup wants to ...   \n",
              "29  The winning ideas from AI Tinkerers’ human-in-...   \n",
              "\n",
              "                                               teaser  \\\n",
              "0   Dave Clark, the former Amazon Worldwide Consum...   \n",
              "1   Siteimprove, a platform that helps companies i...   \n",
              "2   It was a scam you may have heard of. The calle...   \n",
              "3   You can’t exactly grow an up-and-coming profes...   \n",
              "4   Venture capital as we know it today may look q...   \n",
              "5   A trio of Seattle-area angel investors recentl...   \n",
              "6   Goodbye, cold calls. Hello, warm introductions...   \n",
              "7   Nearly a decade ago, radio chemists at the nuc...   \n",
              "8   Augmodo, the Seattle-based startup that wants ...   \n",
              "9   Rippl, a Seattle startup providing virtual hea...   \n",
              "10  On a fall day in 2021, Erin Dallin locked his ...   \n",
              "11  Chris Pitchford, a Seattle tech veteran who pr...   \n",
              "12  — Pirasenna Thiyagarajan joined Seattle wareho...   \n",
              "13  Consumers use all types of wearable gadgets to...   \n",
              "14  Seattle startup Loti announced that it raised ...   \n",
              "15  Tina-Marie Gulley is now CEO for Ada Developer...   \n",
              "16  Seattle needs more angel investors who are mor...   \n",
              "17  Tukwila, Wash.-based Starfish Space is bringin...   \n",
              "18  Foundations hosted a lively launch party Thurs...   \n",
              "19  — Symbl, a generative AI startup for conversat...   \n",
              "20  Real estate listings on Zillow now include det...   \n",
              "21  OctoAI, a Seattle software startup that sells ...   \n",
              "22  Joylux, a Seattle startup selling electronic d...   \n",
              "23  LinkedIn released its annual list of Top 50 st...   \n",
              "24  Nothing like a mention of the “Seattle Freeze”...   \n",
              "25  Seattle-based Radian Aerospace has finished th...   \n",
              "26  Follow-up: Freeze! Comments about the social d...   \n",
              "27  Outgo, a Seattle-based startup that sells bank...   \n",
              "28  SoundGTM, a new Seattle startup led by tech ve...   \n",
              "29  A hackathon in Seattle this past weekend provi...   \n",
              "\n",
              "                                                 link  \n",
              "0   https://www.geekwire.com/2024/former-amazon-ex...  \n",
              "1   https://www.geekwire.com/2024/siteimprove-to-a...  \n",
              "2   https://www.geekwire.com/2024/as-americans-los...  \n",
              "3   https://www.geekwire.com/2024/seattle-kraken-o...  \n",
              "4   https://www.geekwire.com/2024/venture-capital-...  \n",
              "5   https://www.geekwire.com/2024/former-seachange...  \n",
              "6   https://www.geekwire.com/2024/seattle-startup-...  \n",
              "7   https://www.geekwire.com/2024/bill-gates-backe...  \n",
              "8   https://www.geekwire.com/2024/inventory-tracki...  \n",
              "9   https://www.geekwire.com/2024/dementia-care-st...  \n",
              "10  https://www.geekwire.com/2024/as-stolen-bikes-...  \n",
              "11  https://www.geekwire.com/2024/this-new-busines...  \n",
              "12  https://www.geekwire.com/2024/tech-moves-flexe...  \n",
              "13  https://www.geekwire.com/2024/this-250-wearabl...  \n",
              "14  https://www.geekwire.com/2024/deepfake-detecti...  \n",
              "15  https://www.geekwire.com/2024/tech-moves-ada-d...  \n",
              "16  https://www.geekwire.com/2024/seattles-startup...  \n",
              "17  https://www.geekwire.com/2024/starfish-space-f...  \n",
              "18  https://www.geekwire.com/2024/inside-the-new-s...  \n",
              "19  https://www.geekwire.com/2024/tech-moves-ge-he...  \n",
              "20  https://www.geekwire.com/2024/zillow-adds-clim...  \n",
              "21  https://www.geekwire.com/2024/chip-giant-nvidi...  \n",
              "22  https://www.geekwire.com/2024/womens-sexual-he...  \n",
              "23  https://www.geekwire.com/2024/linkedins-top-50...  \n",
              "24  https://www.geekwire.com/2024/freeze-comments-...  \n",
              "25  https://www.geekwire.com/2024/radian-aerospace...  \n",
              "26  https://www.geekwire.com/2024/how-the-seattle-...  \n",
              "27  https://www.geekwire.com/2024/freight-fintech-...  \n",
              "28  https://www.geekwire.com/2024/this-new-seattle...  \n",
              "29  https://www.geekwire.com/2024/the-winning-idea...  "
            ],
            "text/html": [
              "\n",
              "  <div id=\"df-08cc9502-9d08-470c-986b-847f0d7d829e\" class=\"colab-df-container\">\n",
              "    <div>\n",
              "<style scoped>\n",
              "    .dataframe tbody tr th:only-of-type {\n",
              "        vertical-align: middle;\n",
              "    }\n",
              "\n",
              "    .dataframe tbody tr th {\n",
              "        vertical-align: top;\n",
              "    }\n",
              "\n",
              "    .dataframe thead th {\n",
              "        text-align: right;\n",
              "    }\n",
              "</style>\n",
              "<table border=\"1\" class=\"dataframe\">\n",
              "  <thead>\n",
              "    <tr style=\"text-align: right;\">\n",
              "      <th></th>\n",
              "      <th>title</th>\n",
              "      <th>teaser</th>\n",
              "      <th>link</th>\n",
              "    </tr>\n",
              "  </thead>\n",
              "  <tbody>\n",
              "    <tr>\n",
              "      <th>0</th>\n",
              "      <td>Former Amazon exec Dave Clark is back in Seatt...</td>\n",
              "      <td>Dave Clark, the former Amazon Worldwide Consum...</td>\n",
              "      <td>https://www.geekwire.com/2024/former-amazon-ex...</td>\n",
              "    </tr>\n",
              "    <tr>\n",
              "      <th>1</th>\n",
              "      <td>Siteimprove to acquire content marketing strat...</td>\n",
              "      <td>Siteimprove, a platform that helps companies i...</td>\n",
              "      <td>https://www.geekwire.com/2024/siteimprove-to-a...</td>\n",
              "    </tr>\n",
              "    <tr>\n",
              "      <th>2</th>\n",
              "      <td>As Americans lose billions of dollars to digit...</td>\n",
              "      <td>It was a scam you may have heard of. The calle...</td>\n",
              "      <td>https://www.geekwire.com/2024/as-americans-los...</td>\n",
              "    </tr>\n",
              "    <tr>\n",
              "      <th>3</th>\n",
              "      <td>Seattle Kraken owner Samantha Holloway leans o...</td>\n",
              "      <td>You can’t exactly grow an up-and-coming profes...</td>\n",
              "      <td>https://www.geekwire.com/2024/seattle-kraken-o...</td>\n",
              "    </tr>\n",
              "    <tr>\n",
              "      <th>4</th>\n",
              "      <td>How venture capital could ‘fundamentally chang...</td>\n",
              "      <td>Venture capital as we know it today may look q...</td>\n",
              "      <td>https://www.geekwire.com/2024/venture-capital-...</td>\n",
              "    </tr>\n",
              "    <tr>\n",
              "      <th>5</th>\n",
              "      <td>Former SeaChange investors form new angel grou...</td>\n",
              "      <td>A trio of Seattle-area angel investors recentl...</td>\n",
              "      <td>https://www.geekwire.com/2024/former-seachange...</td>\n",
              "    </tr>\n",
              "    <tr>\n",
              "      <th>6</th>\n",
              "      <td>Seattle startup Vieu raises $11M to reimagine ...</td>\n",
              "      <td>Goodbye, cold calls. Hello, warm introductions...</td>\n",
              "      <td>https://www.geekwire.com/2024/seattle-startup-...</td>\n",
              "    </tr>\n",
              "    <tr>\n",
              "      <th>7</th>\n",
              "      <td>Bill Gates-backed TerraPower Isotopes produces...</td>\n",
              "      <td>Nearly a decade ago, radio chemists at the nuc...</td>\n",
              "      <td>https://www.geekwire.com/2024/bill-gates-backe...</td>\n",
              "    </tr>\n",
              "    <tr>\n",
              "      <th>8</th>\n",
              "      <td>Inventory-tracking startup Augmodo raises $5.3...</td>\n",
              "      <td>Augmodo, the Seattle-based startup that wants ...</td>\n",
              "      <td>https://www.geekwire.com/2024/inventory-tracki...</td>\n",
              "    </tr>\n",
              "    <tr>\n",
              "      <th>9</th>\n",
              "      <td>Dementia care startup Rippl lands $23M to expa...</td>\n",
              "      <td>Rippl, a Seattle startup providing virtual hea...</td>\n",
              "      <td>https://www.geekwire.com/2024/dementia-care-st...</td>\n",
              "    </tr>\n",
              "    <tr>\n",
              "      <th>10</th>\n",
              "      <td>As stolen bikes are hawked online, cyclists ca...</td>\n",
              "      <td>On a fall day in 2021, Erin Dallin locked his ...</td>\n",
              "      <td>https://www.geekwire.com/2024/as-stolen-bikes-...</td>\n",
              "    </tr>\n",
              "    <tr>\n",
              "      <th>11</th>\n",
              "      <td>This new ‘business performance OS’ startup use...</td>\n",
              "      <td>Chris Pitchford, a Seattle tech veteran who pr...</td>\n",
              "      <td>https://www.geekwire.com/2024/this-new-busines...</td>\n",
              "    </tr>\n",
              "    <tr>\n",
              "      <th>12</th>\n",
              "      <td>Tech Moves: Flexe taps new CTO; Talus adds hea...</td>\n",
              "      <td>— Pirasenna Thiyagarajan joined Seattle wareho...</td>\n",
              "      <td>https://www.geekwire.com/2024/tech-moves-flexe...</td>\n",
              "    </tr>\n",
              "    <tr>\n",
              "      <th>13</th>\n",
              "      <td>This $250 wearable head device aims to train y...</td>\n",
              "      <td>Consumers use all types of wearable gadgets to...</td>\n",
              "      <td>https://www.geekwire.com/2024/this-250-wearabl...</td>\n",
              "    </tr>\n",
              "    <tr>\n",
              "      <th>14</th>\n",
              "      <td>Deepfake detection startup Loti raises investm...</td>\n",
              "      <td>Seattle startup Loti announced that it raised ...</td>\n",
              "      <td>https://www.geekwire.com/2024/deepfake-detecti...</td>\n",
              "    </tr>\n",
              "    <tr>\n",
              "      <th>15</th>\n",
              "      <td>Tech Moves: Ada Developers Academy gets new CE...</td>\n",
              "      <td>Tina-Marie Gulley is now CEO for Ada Developer...</td>\n",
              "      <td>https://www.geekwire.com/2024/tech-moves-ada-d...</td>\n",
              "    </tr>\n",
              "    <tr>\n",
              "      <th>16</th>\n",
              "      <td>Seattle’s startup ecosystem could use more ‘lo...</td>\n",
              "      <td>Seattle needs more angel investors who are mor...</td>\n",
              "      <td>https://www.geekwire.com/2024/seattles-startup...</td>\n",
              "    </tr>\n",
              "    <tr>\n",
              "      <th>17</th>\n",
              "      <td>Starfish Space brings in new funding as it gea...</td>\n",
              "      <td>Tukwila, Wash.-based Starfish Space is bringin...</td>\n",
              "      <td>https://www.geekwire.com/2024/starfish-space-f...</td>\n",
              "    </tr>\n",
              "    <tr>\n",
              "      <th>18</th>\n",
              "      <td>Inside the new ‘serendipity factory’ trying to...</td>\n",
              "      <td>Foundations hosted a lively launch party Thurs...</td>\n",
              "      <td>https://www.geekwire.com/2024/inside-the-new-s...</td>\n",
              "    </tr>\n",
              "    <tr>\n",
              "      <th>19</th>\n",
              "      <td>Tech Moves: GE healthcare exec joins startup; ...</td>\n",
              "      <td>— Symbl, a generative AI startup for conversat...</td>\n",
              "      <td>https://www.geekwire.com/2024/tech-moves-ge-he...</td>\n",
              "    </tr>\n",
              "    <tr>\n",
              "      <th>20</th>\n",
              "      <td>Zillow adds climate risk data to its real esta...</td>\n",
              "      <td>Real estate listings on Zillow now include det...</td>\n",
              "      <td>https://www.geekwire.com/2024/zillow-adds-clim...</td>\n",
              "    </tr>\n",
              "    <tr>\n",
              "      <th>21</th>\n",
              "      <td>Chip giant Nvidia acquires OctoAI, a Seattle s...</td>\n",
              "      <td>OctoAI, a Seattle software startup that sells ...</td>\n",
              "      <td>https://www.geekwire.com/2024/chip-giant-nvidi...</td>\n",
              "    </tr>\n",
              "    <tr>\n",
              "      <th>22</th>\n",
              "      <td>Women’s sexual health startup Joylux gets cele...</td>\n",
              "      <td>Joylux, a Seattle startup selling electronic d...</td>\n",
              "      <td>https://www.geekwire.com/2024/womens-sexual-he...</td>\n",
              "    </tr>\n",
              "    <tr>\n",
              "      <th>23</th>\n",
              "      <td>LinkedIn’s top 50 startups list: 3 Seattle-are...</td>\n",
              "      <td>LinkedIn released its annual list of Top 50 st...</td>\n",
              "      <td>https://www.geekwire.com/2024/linkedins-top-50...</td>\n",
              "    </tr>\n",
              "    <tr>\n",
              "      <th>24</th>\n",
              "      <td>Freeze! Comments about the social dynamic in S...</td>\n",
              "      <td>Nothing like a mention of the “Seattle Freeze”...</td>\n",
              "      <td>https://www.geekwire.com/2024/freeze-comments-...</td>\n",
              "    </tr>\n",
              "    <tr>\n",
              "      <th>25</th>\n",
              "      <td>Radian Aerospace completes its first round of ...</td>\n",
              "      <td>Seattle-based Radian Aerospace has finished th...</td>\n",
              "      <td>https://www.geekwire.com/2024/radian-aerospace...</td>\n",
              "    </tr>\n",
              "    <tr>\n",
              "      <th>26</th>\n",
              "      <td>How the Seattle Freeze and ‘celebration of pes...</td>\n",
              "      <td>Follow-up: Freeze! Comments about the social d...</td>\n",
              "      <td>https://www.geekwire.com/2024/how-the-seattle-...</td>\n",
              "    </tr>\n",
              "    <tr>\n",
              "      <th>27</th>\n",
              "      <td>Freight fintech startup Outgo raises $15M to h...</td>\n",
              "      <td>Outgo, a Seattle-based startup that sells bank...</td>\n",
              "      <td>https://www.geekwire.com/2024/freight-fintech-...</td>\n",
              "    </tr>\n",
              "    <tr>\n",
              "      <th>28</th>\n",
              "      <td>This new Seattle marketplace startup wants to ...</td>\n",
              "      <td>SoundGTM, a new Seattle startup led by tech ve...</td>\n",
              "      <td>https://www.geekwire.com/2024/this-new-seattle...</td>\n",
              "    </tr>\n",
              "    <tr>\n",
              "      <th>29</th>\n",
              "      <td>The winning ideas from AI Tinkerers’ human-in-...</td>\n",
              "      <td>A hackathon in Seattle this past weekend provi...</td>\n",
              "      <td>https://www.geekwire.com/2024/the-winning-idea...</td>\n",
              "    </tr>\n",
              "  </tbody>\n",
              "</table>\n",
              "</div>\n",
              "    <div class=\"colab-df-buttons\">\n",
              "\n",
              "  <div class=\"colab-df-container\">\n",
              "    <button class=\"colab-df-convert\" onclick=\"convertToInteractive('df-08cc9502-9d08-470c-986b-847f0d7d829e')\"\n",
              "            title=\"Convert this dataframe to an interactive table.\"\n",
              "            style=\"display:none;\">\n",
              "\n",
              "  <svg xmlns=\"http://www.w3.org/2000/svg\" height=\"24px\" viewBox=\"0 -960 960 960\">\n",
              "    <path d=\"M120-120v-720h720v720H120Zm60-500h600v-160H180v160Zm220 220h160v-160H400v160Zm0 220h160v-160H400v160ZM180-400h160v-160H180v160Zm440 0h160v-160H620v160ZM180-180h160v-160H180v160Zm440 0h160v-160H620v160Z\"/>\n",
              "  </svg>\n",
              "    </button>\n",
              "\n",
              "  <style>\n",
              "    .colab-df-container {\n",
              "      display:flex;\n",
              "      gap: 12px;\n",
              "    }\n",
              "\n",
              "    .colab-df-convert {\n",
              "      background-color: #E8F0FE;\n",
              "      border: none;\n",
              "      border-radius: 50%;\n",
              "      cursor: pointer;\n",
              "      display: none;\n",
              "      fill: #1967D2;\n",
              "      height: 32px;\n",
              "      padding: 0 0 0 0;\n",
              "      width: 32px;\n",
              "    }\n",
              "\n",
              "    .colab-df-convert:hover {\n",
              "      background-color: #E2EBFA;\n",
              "      box-shadow: 0px 1px 2px rgba(60, 64, 67, 0.3), 0px 1px 3px 1px rgba(60, 64, 67, 0.15);\n",
              "      fill: #174EA6;\n",
              "    }\n",
              "\n",
              "    .colab-df-buttons div {\n",
              "      margin-bottom: 4px;\n",
              "    }\n",
              "\n",
              "    [theme=dark] .colab-df-convert {\n",
              "      background-color: #3B4455;\n",
              "      fill: #D2E3FC;\n",
              "    }\n",
              "\n",
              "    [theme=dark] .colab-df-convert:hover {\n",
              "      background-color: #434B5C;\n",
              "      box-shadow: 0px 1px 3px 1px rgba(0, 0, 0, 0.15);\n",
              "      filter: drop-shadow(0px 1px 2px rgba(0, 0, 0, 0.3));\n",
              "      fill: #FFFFFF;\n",
              "    }\n",
              "  </style>\n",
              "\n",
              "    <script>\n",
              "      const buttonEl =\n",
              "        document.querySelector('#df-08cc9502-9d08-470c-986b-847f0d7d829e button.colab-df-convert');\n",
              "      buttonEl.style.display =\n",
              "        google.colab.kernel.accessAllowed ? 'block' : 'none';\n",
              "\n",
              "      async function convertToInteractive(key) {\n",
              "        const element = document.querySelector('#df-08cc9502-9d08-470c-986b-847f0d7d829e');\n",
              "        const dataTable =\n",
              "          await google.colab.kernel.invokeFunction('convertToInteractive',\n",
              "                                                    [key], {});\n",
              "        if (!dataTable) return;\n",
              "\n",
              "        const docLinkHtml = 'Like what you see? Visit the ' +\n",
              "          '<a target=\"_blank\" href=https://colab.research.google.com/notebooks/data_table.ipynb>data table notebook</a>'\n",
              "          + ' to learn more about interactive tables.';\n",
              "        element.innerHTML = '';\n",
              "        dataTable['output_type'] = 'display_data';\n",
              "        await google.colab.output.renderOutput(dataTable, element);\n",
              "        const docLink = document.createElement('div');\n",
              "        docLink.innerHTML = docLinkHtml;\n",
              "        element.appendChild(docLink);\n",
              "      }\n",
              "    </script>\n",
              "  </div>\n",
              "\n",
              "\n",
              "<div id=\"df-23767ed5-2df6-42d0-858a-7ad6c264ada6\">\n",
              "  <button class=\"colab-df-quickchart\" onclick=\"quickchart('df-23767ed5-2df6-42d0-858a-7ad6c264ada6')\"\n",
              "            title=\"Suggest charts\"\n",
              "            style=\"display:none;\">\n",
              "\n",
              "<svg xmlns=\"http://www.w3.org/2000/svg\" height=\"24px\"viewBox=\"0 0 24 24\"\n",
              "     width=\"24px\">\n",
              "    <g>\n",
              "        <path d=\"M19 3H5c-1.1 0-2 .9-2 2v14c0 1.1.9 2 2 2h14c1.1 0 2-.9 2-2V5c0-1.1-.9-2-2-2zM9 17H7v-7h2v7zm4 0h-2V7h2v10zm4 0h-2v-4h2v4z\"/>\n",
              "    </g>\n",
              "</svg>\n",
              "  </button>\n",
              "\n",
              "<style>\n",
              "  .colab-df-quickchart {\n",
              "      --bg-color: #E8F0FE;\n",
              "      --fill-color: #1967D2;\n",
              "      --hover-bg-color: #E2EBFA;\n",
              "      --hover-fill-color: #174EA6;\n",
              "      --disabled-fill-color: #AAA;\n",
              "      --disabled-bg-color: #DDD;\n",
              "  }\n",
              "\n",
              "  [theme=dark] .colab-df-quickchart {\n",
              "      --bg-color: #3B4455;\n",
              "      --fill-color: #D2E3FC;\n",
              "      --hover-bg-color: #434B5C;\n",
              "      --hover-fill-color: #FFFFFF;\n",
              "      --disabled-bg-color: #3B4455;\n",
              "      --disabled-fill-color: #666;\n",
              "  }\n",
              "\n",
              "  .colab-df-quickchart {\n",
              "    background-color: var(--bg-color);\n",
              "    border: none;\n",
              "    border-radius: 50%;\n",
              "    cursor: pointer;\n",
              "    display: none;\n",
              "    fill: var(--fill-color);\n",
              "    height: 32px;\n",
              "    padding: 0;\n",
              "    width: 32px;\n",
              "  }\n",
              "\n",
              "  .colab-df-quickchart:hover {\n",
              "    background-color: var(--hover-bg-color);\n",
              "    box-shadow: 0 1px 2px rgba(60, 64, 67, 0.3), 0 1px 3px 1px rgba(60, 64, 67, 0.15);\n",
              "    fill: var(--button-hover-fill-color);\n",
              "  }\n",
              "\n",
              "  .colab-df-quickchart-complete:disabled,\n",
              "  .colab-df-quickchart-complete:disabled:hover {\n",
              "    background-color: var(--disabled-bg-color);\n",
              "    fill: var(--disabled-fill-color);\n",
              "    box-shadow: none;\n",
              "  }\n",
              "\n",
              "  .colab-df-spinner {\n",
              "    border: 2px solid var(--fill-color);\n",
              "    border-color: transparent;\n",
              "    border-bottom-color: var(--fill-color);\n",
              "    animation:\n",
              "      spin 1s steps(1) infinite;\n",
              "  }\n",
              "\n",
              "  @keyframes spin {\n",
              "    0% {\n",
              "      border-color: transparent;\n",
              "      border-bottom-color: var(--fill-color);\n",
              "      border-left-color: var(--fill-color);\n",
              "    }\n",
              "    20% {\n",
              "      border-color: transparent;\n",
              "      border-left-color: var(--fill-color);\n",
              "      border-top-color: var(--fill-color);\n",
              "    }\n",
              "    30% {\n",
              "      border-color: transparent;\n",
              "      border-left-color: var(--fill-color);\n",
              "      border-top-color: var(--fill-color);\n",
              "      border-right-color: var(--fill-color);\n",
              "    }\n",
              "    40% {\n",
              "      border-color: transparent;\n",
              "      border-right-color: var(--fill-color);\n",
              "      border-top-color: var(--fill-color);\n",
              "    }\n",
              "    60% {\n",
              "      border-color: transparent;\n",
              "      border-right-color: var(--fill-color);\n",
              "    }\n",
              "    80% {\n",
              "      border-color: transparent;\n",
              "      border-right-color: var(--fill-color);\n",
              "      border-bottom-color: var(--fill-color);\n",
              "    }\n",
              "    90% {\n",
              "      border-color: transparent;\n",
              "      border-bottom-color: var(--fill-color);\n",
              "    }\n",
              "  }\n",
              "</style>\n",
              "\n",
              "  <script>\n",
              "    async function quickchart(key) {\n",
              "      const quickchartButtonEl =\n",
              "        document.querySelector('#' + key + ' button');\n",
              "      quickchartButtonEl.disabled = true;  // To prevent multiple clicks.\n",
              "      quickchartButtonEl.classList.add('colab-df-spinner');\n",
              "      try {\n",
              "        const charts = await google.colab.kernel.invokeFunction(\n",
              "            'suggestCharts', [key], {});\n",
              "      } catch (error) {\n",
              "        console.error('Error during call to suggestCharts:', error);\n",
              "      }\n",
              "      quickchartButtonEl.classList.remove('colab-df-spinner');\n",
              "      quickchartButtonEl.classList.add('colab-df-quickchart-complete');\n",
              "    }\n",
              "    (() => {\n",
              "      let quickchartButtonEl =\n",
              "        document.querySelector('#df-23767ed5-2df6-42d0-858a-7ad6c264ada6 button');\n",
              "      quickchartButtonEl.style.display =\n",
              "        google.colab.kernel.accessAllowed ? 'block' : 'none';\n",
              "    })();\n",
              "  </script>\n",
              "</div>\n",
              "\n",
              "    </div>\n",
              "  </div>\n"
            ],
            "application/vnd.google.colaboratory.intrinsic+json": {
              "type": "dataframe",
              "summary": "{\n  \"name\": \"pd\",\n  \"rows\": 30,\n  \"fields\": [\n    {\n      \"column\": \"title\",\n      \"properties\": {\n        \"dtype\": \"string\",\n        \"num_unique_values\": 30,\n        \"samples\": [\n          \"Freight fintech startup Outgo raises $15M to help trucking carriers access cash quickly\",\n          \"Tech Moves: Ada Developers Academy gets new CEO; more C-suite changes at Outreach\",\n          \"LinkedIn\\u2019s top 50 startups list: 3 Seattle-area companies make the cut\"\n        ],\n        \"semantic_type\": \"\",\n        \"description\": \"\"\n      }\n    },\n    {\n      \"column\": \"teaser\",\n      \"properties\": {\n        \"dtype\": \"string\",\n        \"num_unique_values\": 30,\n        \"samples\": [\n          \"Outgo, a Seattle-based startup that sells banking services to freight carriers, revealed that it raised $15 million in an investment round last year. The fresh cash, along with a $50\\u2026 Read More\",\n          \"Tina-Marie Gulley is now CEO for Ada Developers Academy after serving as interim chief executive since April. \\u201cHer passion for empowering underrepresented groups in tech and her vision for Ada\\u2019s\\u2026 Read More\",\n          \"LinkedIn released its annual list of Top 50 startups, and three Seattle-area companies made it: Chainguard, Truveta, and Statsig. Read more about the companies:\"\n        ],\n        \"semantic_type\": \"\",\n        \"description\": \"\"\n      }\n    },\n    {\n      \"column\": \"link\",\n      \"properties\": {\n        \"dtype\": \"string\",\n        \"num_unique_values\": 30,\n        \"samples\": [\n          \"https://www.geekwire.com/2024/freight-fintech-startup-outgo-raises-15m-to-help-trucking-carriers-access-cash-quickly/\",\n          \"https://www.geekwire.com/2024/tech-moves-ada-developers-academy-gets-new-ceo-more-c-suite-changes-at-outreach/\",\n          \"https://www.geekwire.com/2024/linkedins-top-50-startups-list-3-seattle-area-companies-make-the-cut/\"\n        ],\n        \"semantic_type\": \"\",\n        \"description\": \"\"\n      }\n    }\n  ]\n}"
            }
          },
          "metadata": {},
          "execution_count": 88
        }
      ]
    },
    {
      "cell_type": "code",
      "source": [
        "[get_article_info(x) for x in teasers]"
      ],
      "metadata": {
        "id": "Rw9LfndaE_oz"
      },
      "execution_count": null,
      "outputs": []
    },
    {
      "cell_type": "code",
      "source": [
        "for one_article in teasers:\n",
        "    print(get_article_info(one_article))"
      ],
      "metadata": {
        "colab": {
          "base_uri": "https://localhost:8080/"
        },
        "id": "RNMuS7HvE1Qy",
        "outputId": "a9395bdb-4190-43ed-de89-bcc16809f79f"
      },
      "execution_count": null,
      "outputs": [
        {
          "output_type": "stream",
          "name": "stdout",
          "text": [
            "{'title': 'Former Amazon exec Dave Clark is back in Seattle with a startup of his own — and $100M in funding', 'teaser': 'Dave Clark, the former Amazon Worldwide Consumer CEO and Flexport CEO, is launching a new supply-chain technology startup called Auger, with $100 million in Series A funding from venture capital… Read More', 'link': 'https://www.geekwire.com/2024/former-amazon-exec-dave-clark-is-back-in-seattle-with-a-startup-of-his-own-and-100m-in-funding/'}\n",
            "{'title': 'Siteimprove to acquire content marketing strategy firm MarketMuse', 'teaser': 'Siteimprove, a platform that helps companies improve website functionality, agreed to acquire MarketMuse, a Boston-based content planning and optimization software startup.', 'link': 'https://www.geekwire.com/2024/siteimprove-to-acquire-content-marketing-firm-marketmuse/'}\n",
            "{'title': 'As Americans lose billions of dollars to digital scams, startups turn to AI for solutions', 'teaser': 'It was a scam you may have heard of. The caller claimed to be a relative in trouble — in this case, a grandson who was in a car accident… Read More', 'link': 'https://www.geekwire.com/2024/as-americans-lose-billions-of-dollars-to-digital-scams-startups-turn-to-ai-for-solutions/'}\n",
            "{'title': 'Seattle Kraken owner Samantha Holloway leans on tech startup experience to lead NHL franchise', 'teaser': 'You can’t exactly grow an up-and-coming professional hockey franchise in the same way that you’d scale an early stage software company. But Samantha Holloway is certainly using lessons learned from… Read More', 'link': 'https://www.geekwire.com/2024/seattle-kraken-owner-samantha-holloway-leans-on-tech-startup-experience-to-lead-nhl-franchise/'}\n",
            "{'title': 'How venture capital could ‘fundamentally change’ over the next decade', 'teaser': 'Venture capital as we know it today may look quite different in the near future. “I think venture capital, over the next 5-to-10 years, is going to fundamentally change,” said… Read More', 'link': 'https://www.geekwire.com/2024/venture-capital-industry-will-soon-fundamentally-change-says-longtime-seattle-investor/'}\n",
            "{'title': 'Former SeaChange investors form new angel group in Seattle backing early stage startups', 'teaser': 'A trio of Seattle-area angel investors recently launched a new group called VentureUs that aims to make pre-seed and seed investments in startups across the Pacific Northwest. Jenn Wrenn Henry,… Read More', 'link': 'https://www.geekwire.com/2024/former-seachange-investors-form-new-angel-group-in-seattle-backing-early-stage-startups/'}\n",
            "{'title': 'Seattle startup Vieu raises $11M to reimagine B2B sales outreach, with help from AI', 'teaser': 'Goodbye, cold calls. Hello, warm introductions. That’s the promise of Vieu, a Seattle startup that wants to help companies boost their enterprise sales processes. The company, founded in 2022 by… Read More', 'link': 'https://www.geekwire.com/2024/seattle-startup-vieu-raises-11m-to-reimagine-b2b-sales-outreach-with-help-from-ai/'}\n",
            "{'title': 'Bill Gates-backed TerraPower Isotopes produces rare, radioactive ingredient sought for cancer drugs', 'teaser': 'Nearly a decade ago, radio chemists at the nuclear power startup TerraPower saw a promising opportunity in radioactive waste from Cold War weapons. And when you work for a company… Read More', 'link': 'https://www.geekwire.com/2024/bill-gates-backed-terrapower-isotopes-produces-rare-radioactive-ingredient-sought-for-cancer-drugs/'}\n",
            "{'title': 'Inventory-tracking startup Augmodo raises $5.3M to monitor store shelves via wearable tech', 'teaser': 'Augmodo, the Seattle-based startup that wants to make it easier for retailers to keep track of inventory, raised $5.3 million in seed funding. The round was led by Lerer Hippeau… Read More', 'link': 'https://www.geekwire.com/2024/inventory-tracking-startup-augmodo-raises-5-3m-to-monitor-store-shelves-via-wearable-tech/'}\n",
            "{'title': 'Dementia care startup Rippl lands $23M to expand virtual services into more states', 'teaser': 'Rippl, a Seattle startup providing virtual health care for patients with dementia, announced $23 million in new funding. The company is focused on delivering care outside of hospitals or emergency… Read More', 'link': 'https://www.geekwire.com/2024/dementia-care-startup-rippl-lands-23m-to-expand-virtual-services-into-more-states/'}\n",
            "{'title': 'As stolen bikes are hawked online, cyclists call out digital marketplaces and run crime-fighting efforts', 'teaser': 'On a fall day in 2021, Erin Dallin locked his cherished baby blue bicycle to a rack near the University of Washington light-rail station in Seattle. When he returned hours… Read More', 'link': 'https://www.geekwire.com/2024/as-stolen-bikes-are-hawked-online-cyclists-call-out-digital-marketplaces-and-run-crime-fighting-efforts/'}\n",
            "{'title': 'This new ‘business performance OS’ startup uses AI to manage productivity, automate reporting', 'teaser': 'Chris Pitchford, a Seattle tech veteran who previously co-founded Shyft and was vice president of sales at Ally, is leading a new startup called Brev that leverages large language models… Read More', 'link': 'https://www.geekwire.com/2024/this-new-business-performance-os-startup-uses-ai-to-manage-productivity-automate-reporting/'}\n",
            "{'title': 'Tech Moves: Flexe taps new CTO; Talus adds head of biology; Vouched names a sales VP', 'teaser': '— Pirasenna Thiyagarajan joined Seattle warehousing logistics and shipping startup Flexe as its chief technology and product officer. Thiyagarajan in recent years held multiple CTO roles at Bay Area startups.… Read More', 'link': 'https://www.geekwire.com/2024/tech-moves-flexe-taps-new-cto-talus-adds-head-of-biology-vouched-names-a-sales-vp/'}\n",
            "{'title': 'This $250 wearable head device aims to train your brain with games', 'teaser': 'Consumers use all types of wearable gadgets to monitor physical activity. But what about measuring our brains? A Seattle-area startup called Thinkie has developed a wearable cloth headband with a… Read More', 'link': 'https://www.geekwire.com/2024/this-250-wearable-head-device-aims-to-train-your-brain-with-games/'}\n",
            "{'title': 'Deepfake detection startup Loti raises investment from Khosla Ventures', 'teaser': 'Seattle startup\\xa0Loti\\xa0announced that it raised new investment from Silicon Valley mainstay Khosla Ventures. Founded in 2022, Loti helps public figures scour the internet for fake social media accounts, fake endorsements,… Read More', 'link': 'https://www.geekwire.com/2024/deepfake-detection-startup-loti-raises-investment-from-khosla-ventures/'}\n",
            "{'title': 'Tech Moves: Ada Developers Academy gets new CEO; more C-suite changes at Outreach', 'teaser': 'Tina-Marie Gulley is now CEO for Ada Developers Academy after serving as interim chief executive since April. “Her passion for empowering underrepresented groups in tech and her vision for Ada’s… Read More', 'link': 'https://www.geekwire.com/2024/tech-moves-ada-developers-academy-gets-new-ceo-more-c-suite-changes-at-outreach/'}\n",
            "{'title': 'Seattle’s startup ecosystem could use more ‘low-conviction check writers,’ according to this VC', 'teaser': 'Seattle needs more angel investors who are more comfortable with risky startup bets. That’s the take from James Newell, a longtime venture capitalist and managing director at Seattle-based firm Voyager… Read More', 'link': 'https://www.geekwire.com/2024/seattles-startup-ecosystem-could-use-more-low-conviction-check-writers-according-to-this-vc/'}\n",
            "{'title': 'Starfish Space brings in new funding as it gears up for orbital inspection and docking', 'teaser': 'Tukwila, Wash.-based Starfish Space is bringing in more funding after announcing several agreements to use its Otter spacecraft for missions ranging from inspecting dead satellites to extending the life of… Read More', 'link': 'https://www.geekwire.com/2024/starfish-space-fresh-funding-otter/'}\n",
            "{'title': 'Inside the new ‘serendipity factory’ trying to spark the startup scene in Seattle', 'teaser': 'Foundations hosted a lively launch party Thursday evening at its space in Seattle’s Capitol Hill neighborhood, where the organization hopes to build a new community for the city’s tech entrepreneurs.… Read More', 'link': 'https://www.geekwire.com/2024/inside-the-new-serendipity-factory-trying-to-spark-the-startup-scene-in-seattle/'}\n",
            "{'title': 'Tech Moves: GE healthcare exec joins startup; Nautilus taps new CMO; WRF investor steps down', 'teaser': '— Symbl, a generative AI startup for conversation analysis, is reshaping its leadership ranks. Selvan Senthivel is the new chief technology officer for the 6-year-old Seattle startup. Senthivel was most… Read More', 'link': 'https://www.geekwire.com/2024/tech-moves-ge-healthcare-exec-joins-startup-nautilus-biotechs-new-cmo-wrf-investor-steps-down/'}\n",
            "{'title': 'Zillow adds climate risk data to its real estate listings', 'teaser': 'Real estate listings on Zillow now include details about a property’s climate risks and whether natural disaster insurance is critical or required. The listings feature information on the potential for… Read More', 'link': 'https://www.geekwire.com/2024/zillow-adds-climate-risk-data-to-its-real-estate-listings/'}\n",
            "{'title': 'Chip giant Nvidia acquires OctoAI, a Seattle startup that helps companies run AI models', 'teaser': 'OctoAI, a Seattle software startup that sells tools to help build and run generative AI models more efficiently, has been acquired by chip giant Nvidia. OctoAI’s homepage has a banner… Read More', 'link': 'https://www.geekwire.com/2024/chip-giant-nvidia-acquires-octoai-a-seattle-startup-that-helps-companies-run-ai-models/'}\n",
            "{'title': 'Women’s sexual health startup Joylux gets celebrity boost with new Halle Berry partnership', 'teaser': 'Joylux, a Seattle startup selling electronic devices that can help women improve their vaginal health, this week announced a partnership with actress, filmmaker and entrepreneur Halle Berry to promote women’s… Read More', 'link': 'https://www.geekwire.com/2024/womens-sexual-health-startup-joylux-gets-celebrity-boost-with-new-halle-berry-partnership/'}\n",
            "{'title': 'LinkedIn’s top 50 startups list: 3 Seattle-area companies make the cut', 'teaser': 'LinkedIn released its annual list of Top 50 startups, and three Seattle-area companies made it: Chainguard, Truveta, and Statsig. Read more about the companies:', 'link': 'https://www.geekwire.com/2024/linkedins-top-50-startups-list-3-seattle-area-companies-make-the-cut/'}\n",
            "{'title': 'Freeze! Comments about the social dynamic in Seattle’s startup scene draw a chilly response', 'teaser': 'Nothing like a mention of the “Seattle Freeze” to heat up the conversation about the city’s startup ecosystem and what works and what doesn’t. Seattle’s long-dreaded social dynamic surfaced at… Read More', 'link': 'https://www.geekwire.com/2024/freeze-comments-about-seattles-social-dynamic-impacting-startup-scene-draw-a-chilly-response/'}\n",
            "{'title': 'Radian Aerospace completes its first round of ground testing for prototype space plane', 'teaser': 'Seattle-based Radian Aerospace has finished the first round of ground taxi testing for a prototype aircraft that’s meant to blaze the trail for a first-of-its-kind, single-stage-to-orbit space plane. Radian said… Read More', 'link': 'https://www.geekwire.com/2024/radian-aerospace-ground-testing-prototype-space-plane/'}\n",
            "{'title': 'How the Seattle Freeze and ‘celebration of pessimism’ hurts the city’s startup scene', 'teaser': 'Follow-up: Freeze! Comments about the social dynamic in Seattle’s startup scene draw a chilly response Lack of angel investors. The golden handcuffs at Microsoft and Amazon. Not enough experienced operators.… Read More', 'link': 'https://www.geekwire.com/2024/how-the-seattle-freeze-and-celebration-of-pessimism-hurts-the-citys-startup-scene/'}\n",
            "{'title': 'Freight fintech startup Outgo raises $15M to help trucking carriers access cash quickly', 'teaser': 'Outgo, a Seattle-based startup that sells banking services to freight carriers, revealed that it raised $15 million in an investment round last year. The fresh cash, along with a $50… Read More', 'link': 'https://www.geekwire.com/2024/freight-fintech-startup-outgo-raises-15m-to-help-trucking-carriers-access-cash-quickly/'}\n",
            "{'title': 'This new Seattle marketplace startup wants to change how B2B companies scale sales', 'teaser': 'SoundGTM, a new Seattle startup led by tech veterans Jenn Steele and Kevin Boehm, announced public availability of its marketplace platform that aims to help B2B companies supercharge their sales… Read More', 'link': 'https://www.geekwire.com/2024/this-new-seattle-marketplace-startup-wants-to-change-how-b2b-companies-scale-sales/'}\n",
            "{'title': 'The winning ideas from AI Tinkerers’ human-in-the-loop AI agent hackathon in Seattle', 'teaser': 'A hackathon in Seattle this past weekend provided a glimpse of how AI systems can effectively work with humans in both personal and professional capacities. AI Tinkerers hosted its “Humans-in-the-Loop”… Read More', 'link': 'https://www.geekwire.com/2024/the-winning-ideas-from-ai-tinkerers-human-in-the-loop-ai-agent-hackathon-in-seattle/'}\n"
          ]
        }
      ]
    },
    {
      "cell_type": "code",
      "source": [
        "teasers[0].select_one('.entry-title').text\n",
        "teasers[0].select_one('.entry-summary').text.strip()\n",
        "teasers[0].select_one('a')['href']"
      ],
      "metadata": {
        "colab": {
          "base_uri": "https://localhost:8080/",
          "height": 36
        },
        "id": "mxLUr4MFAziA",
        "outputId": "2d25b456-1cd0-413a-8c4e-a0db51db42ad"
      },
      "execution_count": null,
      "outputs": [
        {
          "output_type": "execute_result",
          "data": {
            "text/plain": [
              "'https://www.geekwire.com/2024/former-amazon-exec-dave-clark-is-back-in-seattle-with-a-startup-of-his-own-and-100m-in-funding/'"
            ],
            "application/vnd.google.colaboratory.intrinsic+json": {
              "type": "string"
            }
          },
          "metadata": {},
          "execution_count": 73
        }
      ]
    },
    {
      "cell_type": "code",
      "source": [
        "{\n",
        "    \"title\":  teasers[0].select_one('.entry-title').text,\n",
        "    \"teaser\": teasers[0].select_one('.entry-summary').text.strip(),\n",
        "    \"link\":   teasers[0].select_one('a')['href']\n",
        "}"
      ],
      "metadata": {
        "colab": {
          "base_uri": "https://localhost:8080/"
        },
        "id": "G2of0mVuCkF7",
        "outputId": "7054830e-6e6e-434a-81a4-8e230c5b8174"
      },
      "execution_count": null,
      "outputs": [
        {
          "output_type": "execute_result",
          "data": {
            "text/plain": [
              "{'title': 'Former Amazon exec Dave Clark is back in Seattle with a startup of his own — and $100M in funding',\n",
              " 'teaser': 'Dave Clark, the former Amazon Worldwide Consumer CEO and Flexport CEO, is launching a new supply-chain technology startup called Auger, with $100 million in Series A funding from venture capital… Read More',\n",
              " 'link': 'https://www.geekwire.com/2024/former-amazon-exec-dave-clark-is-back-in-seattle-with-a-startup-of-his-own-and-100m-in-funding/'}"
            ]
          },
          "metadata": {},
          "execution_count": 75
        }
      ]
    },
    {
      "cell_type": "code",
      "source": [
        "def get_article_info(article):\n",
        "    return {\n",
        "        \"title\":  article.select_one('.entry-title').text,\n",
        "        \"teaser\": article.select_one('.entry-summary').text.strip(),\n",
        "        \"link\":   article.select_one('a')['href']\n",
        "    }\n",
        "\n",
        "get_article_info(teasers[3])"
      ],
      "metadata": {
        "colab": {
          "base_uri": "https://localhost:8080/"
        },
        "id": "vKNQyh8ODkUk",
        "outputId": "4629fa75-6c29-43c3-e997-8977f26b56d3"
      },
      "execution_count": null,
      "outputs": [
        {
          "output_type": "execute_result",
          "data": {
            "text/plain": [
              "{'title': 'Seattle Kraken owner Samantha Holloway leans on tech startup experience to lead NHL franchise',\n",
              " 'teaser': 'You can’t exactly grow an up-and-coming professional hockey franchise in the same way that you’d scale an early stage software company. But Samantha Holloway is certainly using lessons learned from… Read More',\n",
              " 'link': 'https://www.geekwire.com/2024/seattle-kraken-owner-samantha-holloway-leans-on-tech-startup-experience-to-lead-nhl-franchise/'}"
            ]
          },
          "metadata": {},
          "execution_count": 78
        }
      ]
    },
    {
      "cell_type": "code",
      "source": [],
      "metadata": {
        "id": "7WDo3aKiECwm"
      },
      "execution_count": null,
      "outputs": []
    }
  ]
}